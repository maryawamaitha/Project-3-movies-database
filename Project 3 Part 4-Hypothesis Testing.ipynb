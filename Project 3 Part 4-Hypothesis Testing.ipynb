{
 "cells": [
  {
   "cell_type": "markdown",
   "id": "50739503",
   "metadata": {},
   "source": [
    "Questions to Answer\n",
    "1) Does the MPAA rating of a movie (G/PG/PG-13/R) affect how much revenue the movie generates?\n",
    "\n",
    "2) Do movies that are longer earn more revenue than movies that are shorter?\n",
    "\n",
    "3) Do some movie genres earn more revenue than others? \n",
    "- They want you to perform a statistical test to get a mathematically-supported answer.\n",
    "- They want you to report if you found a significant difference between ratings.\n",
    "- If so, what was the p-value of you analysis?\n",
    "- And which rating earns the most revenue?\n",
    "- They want you to prepare a visualization that supports your finding."
   ]
  },
  {
   "cell_type": "code",
   "execution_count": 1,
   "id": "81e6a637",
   "metadata": {},
   "outputs": [],
   "source": [
    "import json\n",
    "import pandas as pd\n",
    "import numpy as np\n",
    "import seaborn as sns\n",
    "import matplotlib.pyplot as plt\n",
    "import scipy.stats as stats"
   ]
  },
  {
   "cell_type": "code",
   "execution_count": 2,
   "id": "106583ab",
   "metadata": {},
   "outputs": [
    {
     "data": {
      "text/plain": [
       "['.ipynb_checkpoints',\n",
       " 'final_tmdb_data_2000.csv.gz',\n",
       " 'final_tmdb_data_2001.csv.gz',\n",
       " 'final_tmdb_data_2002.csv.gz',\n",
       " 'final_tmdb_data_2003.csv.gz',\n",
       " 'final_tmdb_data_2004.csv.gz',\n",
       " 'final_tmdb_data_2005.csv.gz',\n",
       " 'final_tmdb_data_2006.csv.gz',\n",
       " 'final_tmdb_data_2007.csv.gz',\n",
       " 'final_tmdb_data_2008.csv.gz',\n",
       " 'final_tmdb_data_2009.csv.gz',\n",
       " 'final_tmdb_data_2010.csv.gz',\n",
       " 'final_tmdb_data_2011.csv.gz',\n",
       " 'final_tmdb_data_2012.csv.gz',\n",
       " 'final_tmdb_data_2013.csv.gz',\n",
       " 'final_tmdb_data_2014.csv.gz',\n",
       " 'final_tmdb_data_2015.csv.gz',\n",
       " 'final_tmdb_data_2016.csv.gz',\n",
       " 'final_tmdb_data_2017.csv.gz',\n",
       " 'final_tmdb_data_2018.csv.gz',\n",
       " 'final_tmdb_data_2019.csv.gz',\n",
       " 'final_tmdb_data_2020.csv.gz',\n",
       " 'final_tmdb_data_2021.csv.gz',\n",
       " 'genres_.csv.gz',\n",
       " 'Project 3-EDA-TMDB.ipynb',\n",
       " 'title_akas.csv.gz',\n",
       " 'title_basics.csv.gz',\n",
       " 'title_genres.csv.gz',\n",
       " 'title_ratings.csv.gz',\n",
       " 'tmdb_api_requests_2002.json',\n",
       " 'tmdb_api_requests_2003.json',\n",
       " 'tmdb_api_requests_2004.json',\n",
       " 'tmdb_api_requests_2005.json',\n",
       " 'tmdb_api_requests_2006.json',\n",
       " 'tmdb_api_requests_2007.json',\n",
       " 'tmdb_api_requests_2008.json',\n",
       " 'tmdb_api_requests_2009.json',\n",
       " 'tmdb_api_requests_2010.json',\n",
       " 'tmdb_api_requests_2011.json',\n",
       " 'tmdb_api_requests_2012.json',\n",
       " 'tmdb_api_requests_2013.json',\n",
       " 'tmdb_api_requests_2014.json',\n",
       " 'tmdb_api_requests_2015.json',\n",
       " 'tmdb_api_requests_2016.json',\n",
       " 'tmdb_api_requests_2017.json',\n",
       " 'tmdb_api_requests_2018.json',\n",
       " 'tmdb_api_requests_2019.json',\n",
       " 'tmdb_api_requests_2020.json',\n",
       " 'tmdb_api_requests_2021.json',\n",
       " 'tmdb_api_results_2000.json',\n",
       " 'tmdb_api_results_2001.json',\n",
       " 'tmdb_api_results_2010.json',\n",
       " 'tmdb_api_results_2011.json',\n",
       " 'tmdb_api_results_2012.json',\n",
       " 'tmdb_results_combined.csv.gz']"
      ]
     },
     "execution_count": 2,
     "metadata": {},
     "output_type": "execute_result"
    }
   ],
   "source": [
    "import os\n",
    "FOLDER = \"Data/\"\n",
    "os.makedirs(FOLDER, exist_ok=True)\n",
    "os.listdir(FOLDER)"
   ]
  },
  {
   "cell_type": "code",
   "execution_count": 3,
   "id": "07233602",
   "metadata": {},
   "outputs": [
    {
     "name": "stdout",
     "output_type": "stream",
     "text": [
      "Data//**/final*.csv.gz\n"
     ]
    },
    {
     "data": {
      "text/plain": [
       "['Data\\\\final_tmdb_data_2000.csv.gz',\n",
       " 'Data\\\\final_tmdb_data_2001.csv.gz',\n",
       " 'Data\\\\final_tmdb_data_2002.csv.gz',\n",
       " 'Data\\\\final_tmdb_data_2003.csv.gz',\n",
       " 'Data\\\\final_tmdb_data_2004.csv.gz',\n",
       " 'Data\\\\final_tmdb_data_2005.csv.gz',\n",
       " 'Data\\\\final_tmdb_data_2006.csv.gz',\n",
       " 'Data\\\\final_tmdb_data_2007.csv.gz',\n",
       " 'Data\\\\final_tmdb_data_2008.csv.gz',\n",
       " 'Data\\\\final_tmdb_data_2009.csv.gz',\n",
       " 'Data\\\\final_tmdb_data_2010.csv.gz',\n",
       " 'Data\\\\final_tmdb_data_2011.csv.gz',\n",
       " 'Data\\\\final_tmdb_data_2012.csv.gz',\n",
       " 'Data\\\\final_tmdb_data_2013.csv.gz',\n",
       " 'Data\\\\final_tmdb_data_2014.csv.gz',\n",
       " 'Data\\\\final_tmdb_data_2015.csv.gz',\n",
       " 'Data\\\\final_tmdb_data_2016.csv.gz',\n",
       " 'Data\\\\final_tmdb_data_2017.csv.gz',\n",
       " 'Data\\\\final_tmdb_data_2018.csv.gz',\n",
       " 'Data\\\\final_tmdb_data_2019.csv.gz',\n",
       " 'Data\\\\final_tmdb_data_2020.csv.gz',\n",
       " 'Data\\\\final_tmdb_data_2021.csv.gz']"
      ]
     },
     "execution_count": 3,
     "metadata": {},
     "output_type": "execute_result"
    }
   ],
   "source": [
    "import glob\n",
    "search = FOLDER+\"/**/final*.csv.gz\"\n",
    "print(search)\n",
    "file_list = sorted(glob.glob(search,recursive=True))\n",
    "file_list"
   ]
  },
  {
   "cell_type": "code",
   "execution_count": 4,
   "id": "103df242",
   "metadata": {},
   "outputs": [],
   "source": [
    "import pandas as pd\n",
    "df_list = []\n",
    "\n",
    "for file in file_list:\n",
    "    df = pd.read_csv(file)\n",
    "    df_list.append(df)\n"
   ]
  },
  {
   "cell_type": "code",
   "execution_count": 5,
   "id": "2b2e01eb",
   "metadata": {},
   "outputs": [
    {
     "data": {
      "text/html": [
       "<div>\n",
       "<style scoped>\n",
       "    .dataframe tbody tr th:only-of-type {\n",
       "        vertical-align: middle;\n",
       "    }\n",
       "\n",
       "    .dataframe tbody tr th {\n",
       "        vertical-align: top;\n",
       "    }\n",
       "\n",
       "    .dataframe thead th {\n",
       "        text-align: right;\n",
       "    }\n",
       "</style>\n",
       "<table border=\"1\" class=\"dataframe\">\n",
       "  <thead>\n",
       "    <tr style=\"text-align: right;\">\n",
       "      <th></th>\n",
       "      <th>imdb_id</th>\n",
       "      <th>adult</th>\n",
       "      <th>backdrop_path</th>\n",
       "      <th>belongs_to_collection</th>\n",
       "      <th>budget</th>\n",
       "      <th>genres</th>\n",
       "      <th>homepage</th>\n",
       "      <th>id</th>\n",
       "      <th>original_language</th>\n",
       "      <th>original_title</th>\n",
       "      <th>...</th>\n",
       "      <th>revenue</th>\n",
       "      <th>runtime</th>\n",
       "      <th>spoken_languages</th>\n",
       "      <th>status</th>\n",
       "      <th>tagline</th>\n",
       "      <th>title</th>\n",
       "      <th>video</th>\n",
       "      <th>vote_average</th>\n",
       "      <th>vote_count</th>\n",
       "      <th>certification</th>\n",
       "    </tr>\n",
       "  </thead>\n",
       "  <tbody>\n",
       "    <tr>\n",
       "      <th>0</th>\n",
       "      <td>0</td>\n",
       "      <td>NaN</td>\n",
       "      <td>NaN</td>\n",
       "      <td>NaN</td>\n",
       "      <td>NaN</td>\n",
       "      <td>NaN</td>\n",
       "      <td>NaN</td>\n",
       "      <td>NaN</td>\n",
       "      <td>NaN</td>\n",
       "      <td>NaN</td>\n",
       "      <td>...</td>\n",
       "      <td>NaN</td>\n",
       "      <td>NaN</td>\n",
       "      <td>NaN</td>\n",
       "      <td>NaN</td>\n",
       "      <td>NaN</td>\n",
       "      <td>NaN</td>\n",
       "      <td>NaN</td>\n",
       "      <td>NaN</td>\n",
       "      <td>NaN</td>\n",
       "      <td>NaN</td>\n",
       "    </tr>\n",
       "    <tr>\n",
       "      <th>1</th>\n",
       "      <td>tt0113026</td>\n",
       "      <td>0.0</td>\n",
       "      <td>/vMFs7nw6P0bIV1jDsQpxAieAVnH.jpg</td>\n",
       "      <td>NaN</td>\n",
       "      <td>10000000.0</td>\n",
       "      <td>[{'id': 35, 'name': 'Comedy'}, {'id': 10402, '...</td>\n",
       "      <td>NaN</td>\n",
       "      <td>62127.0</td>\n",
       "      <td>en</td>\n",
       "      <td>The Fantasticks</td>\n",
       "      <td>...</td>\n",
       "      <td>0.0</td>\n",
       "      <td>86.0</td>\n",
       "      <td>[{'english_name': 'English', 'iso_639_1': 'en'...</td>\n",
       "      <td>Released</td>\n",
       "      <td>Try to remember the first time magic happened</td>\n",
       "      <td>The Fantasticks</td>\n",
       "      <td>0.0</td>\n",
       "      <td>5.4</td>\n",
       "      <td>21.0</td>\n",
       "      <td>NaN</td>\n",
       "    </tr>\n",
       "    <tr>\n",
       "      <th>2</th>\n",
       "      <td>tt0113092</td>\n",
       "      <td>0.0</td>\n",
       "      <td>NaN</td>\n",
       "      <td>NaN</td>\n",
       "      <td>0.0</td>\n",
       "      <td>[{'id': 878, 'name': 'Science Fiction'}]</td>\n",
       "      <td>NaN</td>\n",
       "      <td>110977.0</td>\n",
       "      <td>en</td>\n",
       "      <td>For the Cause</td>\n",
       "      <td>...</td>\n",
       "      <td>0.0</td>\n",
       "      <td>100.0</td>\n",
       "      <td>[{'english_name': 'English', 'iso_639_1': 'en'...</td>\n",
       "      <td>Released</td>\n",
       "      <td>The ultimate showdown on a forbidden planet.</td>\n",
       "      <td>For the Cause</td>\n",
       "      <td>0.0</td>\n",
       "      <td>4.4</td>\n",
       "      <td>7.0</td>\n",
       "      <td>NaN</td>\n",
       "    </tr>\n",
       "  </tbody>\n",
       "</table>\n",
       "<p>3 rows × 26 columns</p>\n",
       "</div>"
      ],
      "text/plain": [
       "     imdb_id  adult                     backdrop_path belongs_to_collection  \\\n",
       "0          0    NaN                               NaN                   NaN   \n",
       "1  tt0113026    0.0  /vMFs7nw6P0bIV1jDsQpxAieAVnH.jpg                   NaN   \n",
       "2  tt0113092    0.0                               NaN                   NaN   \n",
       "\n",
       "       budget                                             genres homepage  \\\n",
       "0         NaN                                                NaN      NaN   \n",
       "1  10000000.0  [{'id': 35, 'name': 'Comedy'}, {'id': 10402, '...      NaN   \n",
       "2         0.0           [{'id': 878, 'name': 'Science Fiction'}]      NaN   \n",
       "\n",
       "         id original_language   original_title  ... revenue  runtime  \\\n",
       "0       NaN               NaN              NaN  ...     NaN      NaN   \n",
       "1   62127.0                en  The Fantasticks  ...     0.0     86.0   \n",
       "2  110977.0                en    For the Cause  ...     0.0    100.0   \n",
       "\n",
       "                                    spoken_languages    status  \\\n",
       "0                                                NaN       NaN   \n",
       "1  [{'english_name': 'English', 'iso_639_1': 'en'...  Released   \n",
       "2  [{'english_name': 'English', 'iso_639_1': 'en'...  Released   \n",
       "\n",
       "                                         tagline            title  video  \\\n",
       "0                                            NaN              NaN    NaN   \n",
       "1  Try to remember the first time magic happened  The Fantasticks    0.0   \n",
       "2   The ultimate showdown on a forbidden planet.    For the Cause    0.0   \n",
       "\n",
       "   vote_average vote_count certification  \n",
       "0           NaN        NaN           NaN  \n",
       "1           5.4       21.0           NaN  \n",
       "2           4.4        7.0           NaN  \n",
       "\n",
       "[3 rows x 26 columns]"
      ]
     },
     "execution_count": 5,
     "metadata": {},
     "output_type": "execute_result"
    }
   ],
   "source": [
    "df = pd.concat(df_list)\n",
    "df.reset_index(inplace=True,drop=True)\n",
    "df.head(3)"
   ]
  },
  {
   "cell_type": "code",
   "execution_count": 6,
   "id": "f38b7ae0",
   "metadata": {},
   "outputs": [
    {
     "data": {
      "text/html": [
       "<div>\n",
       "<style scoped>\n",
       "    .dataframe tbody tr th:only-of-type {\n",
       "        vertical-align: middle;\n",
       "    }\n",
       "\n",
       "    .dataframe tbody tr th {\n",
       "        vertical-align: top;\n",
       "    }\n",
       "\n",
       "    .dataframe thead th {\n",
       "        text-align: right;\n",
       "    }\n",
       "</style>\n",
       "<table border=\"1\" class=\"dataframe\">\n",
       "  <thead>\n",
       "    <tr style=\"text-align: right;\">\n",
       "      <th></th>\n",
       "      <th>imdb_id</th>\n",
       "      <th>budget</th>\n",
       "      <th>genres</th>\n",
       "      <th>popularity</th>\n",
       "      <th>release_date</th>\n",
       "      <th>revenue</th>\n",
       "      <th>runtime</th>\n",
       "      <th>title</th>\n",
       "      <th>vote_average</th>\n",
       "      <th>vote_count</th>\n",
       "      <th>certification</th>\n",
       "    </tr>\n",
       "  </thead>\n",
       "  <tbody>\n",
       "    <tr>\n",
       "      <th>0</th>\n",
       "      <td>0</td>\n",
       "      <td>NaN</td>\n",
       "      <td>NaN</td>\n",
       "      <td>NaN</td>\n",
       "      <td>NaN</td>\n",
       "      <td>NaN</td>\n",
       "      <td>NaN</td>\n",
       "      <td>NaN</td>\n",
       "      <td>NaN</td>\n",
       "      <td>NaN</td>\n",
       "      <td>NaN</td>\n",
       "    </tr>\n",
       "    <tr>\n",
       "      <th>1</th>\n",
       "      <td>tt0113026</td>\n",
       "      <td>10000000.0</td>\n",
       "      <td>[{'id': 35, 'name': 'Comedy'}, {'id': 10402, '...</td>\n",
       "      <td>2.397</td>\n",
       "      <td>2000-09-22</td>\n",
       "      <td>0.0</td>\n",
       "      <td>86.0</td>\n",
       "      <td>The Fantasticks</td>\n",
       "      <td>5.4</td>\n",
       "      <td>21.0</td>\n",
       "      <td>NaN</td>\n",
       "    </tr>\n",
       "    <tr>\n",
       "      <th>2</th>\n",
       "      <td>tt0113092</td>\n",
       "      <td>0.0</td>\n",
       "      <td>[{'id': 878, 'name': 'Science Fiction'}]</td>\n",
       "      <td>1.755</td>\n",
       "      <td>2000-11-15</td>\n",
       "      <td>0.0</td>\n",
       "      <td>100.0</td>\n",
       "      <td>For the Cause</td>\n",
       "      <td>4.4</td>\n",
       "      <td>7.0</td>\n",
       "      <td>NaN</td>\n",
       "    </tr>\n",
       "  </tbody>\n",
       "</table>\n",
       "</div>"
      ],
      "text/plain": [
       "     imdb_id      budget                                             genres  \\\n",
       "0          0         NaN                                                NaN   \n",
       "1  tt0113026  10000000.0  [{'id': 35, 'name': 'Comedy'}, {'id': 10402, '...   \n",
       "2  tt0113092         0.0           [{'id': 878, 'name': 'Science Fiction'}]   \n",
       "\n",
       "   popularity release_date  revenue  runtime            title  vote_average  \\\n",
       "0         NaN          NaN      NaN      NaN              NaN           NaN   \n",
       "1       2.397   2000-09-22      0.0     86.0  The Fantasticks           5.4   \n",
       "2       1.755   2000-11-15      0.0    100.0    For the Cause           4.4   \n",
       "\n",
       "   vote_count certification  \n",
       "0         NaN           NaN  \n",
       "1        21.0           NaN  \n",
       "2         7.0           NaN  "
      ]
     },
     "execution_count": 6,
     "metadata": {},
     "output_type": "execute_result"
    }
   ],
   "source": [
    "## Drop columns that are irrelevant\n",
    "drop_cols = ['backdrop_path','belongs_to_collection','original_title','overview',\n",
    "                 'poster_path','status','tagline','id','homepage',\n",
    "                 'production_countries','video','production_companies','spoken_languages',\n",
    "            'original_language','adult']\n",
    "\n",
    "## drop columns\n",
    "df = df.drop(columns=drop_cols)\n",
    "df.head(3)"
   ]
  },
  {
   "cell_type": "code",
   "execution_count": 7,
   "id": "01447bb4",
   "metadata": {},
   "outputs": [
    {
     "data": {
      "text/html": [
       "<div>\n",
       "<style scoped>\n",
       "    .dataframe tbody tr th:only-of-type {\n",
       "        vertical-align: middle;\n",
       "    }\n",
       "\n",
       "    .dataframe tbody tr th {\n",
       "        vertical-align: top;\n",
       "    }\n",
       "\n",
       "    .dataframe thead th {\n",
       "        text-align: right;\n",
       "    }\n",
       "</style>\n",
       "<table border=\"1\" class=\"dataframe\">\n",
       "  <thead>\n",
       "    <tr style=\"text-align: right;\">\n",
       "      <th></th>\n",
       "      <th>imdb_id</th>\n",
       "      <th>budget</th>\n",
       "      <th>genres</th>\n",
       "      <th>popularity</th>\n",
       "      <th>release_date</th>\n",
       "      <th>revenue</th>\n",
       "      <th>runtime</th>\n",
       "      <th>title</th>\n",
       "      <th>vote_average</th>\n",
       "      <th>vote_count</th>\n",
       "      <th>certification</th>\n",
       "    </tr>\n",
       "  </thead>\n",
       "  <tbody>\n",
       "    <tr>\n",
       "      <th>1</th>\n",
       "      <td>tt0113026</td>\n",
       "      <td>10000000.0</td>\n",
       "      <td>[{'id': 35, 'name': 'Comedy'}, {'id': 10402, '...</td>\n",
       "      <td>2.397</td>\n",
       "      <td>2000-09-22</td>\n",
       "      <td>0.0</td>\n",
       "      <td>86.0</td>\n",
       "      <td>The Fantasticks</td>\n",
       "      <td>5.4</td>\n",
       "      <td>21.0</td>\n",
       "      <td>NaN</td>\n",
       "    </tr>\n",
       "    <tr>\n",
       "      <th>2</th>\n",
       "      <td>tt0113092</td>\n",
       "      <td>0.0</td>\n",
       "      <td>[{'id': 878, 'name': 'Science Fiction'}]</td>\n",
       "      <td>1.755</td>\n",
       "      <td>2000-11-15</td>\n",
       "      <td>0.0</td>\n",
       "      <td>100.0</td>\n",
       "      <td>For the Cause</td>\n",
       "      <td>4.4</td>\n",
       "      <td>7.0</td>\n",
       "      <td>NaN</td>\n",
       "    </tr>\n",
       "    <tr>\n",
       "      <th>3</th>\n",
       "      <td>tt0116391</td>\n",
       "      <td>0.0</td>\n",
       "      <td>[{'id': 18, 'name': 'Drama'}, {'id': 28, 'name...</td>\n",
       "      <td>0.600</td>\n",
       "      <td>2000-04-14</td>\n",
       "      <td>0.0</td>\n",
       "      <td>152.0</td>\n",
       "      <td>Gang</td>\n",
       "      <td>0.0</td>\n",
       "      <td>0.0</td>\n",
       "      <td>NaN</td>\n",
       "    </tr>\n",
       "  </tbody>\n",
       "</table>\n",
       "</div>"
      ],
      "text/plain": [
       "     imdb_id      budget                                             genres  \\\n",
       "1  tt0113026  10000000.0  [{'id': 35, 'name': 'Comedy'}, {'id': 10402, '...   \n",
       "2  tt0113092         0.0           [{'id': 878, 'name': 'Science Fiction'}]   \n",
       "3  tt0116391         0.0  [{'id': 18, 'name': 'Drama'}, {'id': 28, 'name...   \n",
       "\n",
       "   popularity release_date  revenue  runtime            title  vote_average  \\\n",
       "1       2.397   2000-09-22      0.0     86.0  The Fantasticks           5.4   \n",
       "2       1.755   2000-11-15      0.0    100.0    For the Cause           4.4   \n",
       "3       0.600   2000-04-14      0.0    152.0             Gang           0.0   \n",
       "\n",
       "   vote_count certification  \n",
       "1        21.0           NaN  \n",
       "2         7.0           NaN  \n",
       "3         0.0           NaN  "
      ]
     },
     "execution_count": 7,
     "metadata": {},
     "output_type": "execute_result"
    }
   ],
   "source": [
    "# remove ids that are 0  and then reset index\n",
    "df = df[df['imdb_id'] != '0']\n",
    "df.head(3)"
   ]
  },
  {
   "cell_type": "markdown",
   "id": "81d226ec",
   "metadata": {},
   "source": [
    "# Hypothesis Testing #1: does the MPAA rating of a movie (G/PG/PG-13/R) affect how much revenue the movie generates?"
   ]
  },
  {
   "cell_type": "markdown",
   "id": "a660dbf8",
   "metadata": {},
   "source": [
    "- Null Hypothesis: There is no statistical difference between the MPAA rating and revenue generated.(Revenue generated from the movies is the same regardless of the MPAA rating.\n",
    "\n",
    "- Alternate Hypothesis: There is a statistical difference between the MPAA rating and revenue generated."
   ]
  },
  {
   "cell_type": "markdown",
   "id": "8aff14b0",
   "metadata": {},
   "source": [
    "Type of Test: ANOVA Test.\n",
    "Since the certification column: comprises of more than 2(different groups)."
   ]
  },
  {
   "cell_type": "code",
   "execution_count": 8,
   "id": "8f922c02",
   "metadata": {},
   "outputs": [
    {
     "data": {
      "text/plain": [
       "NaN                                47663\n",
       "R                                   6125\n",
       "NR                                  3423\n",
       "PG-13                               3260\n",
       "PG                                  1488\n",
       "G                                    474\n",
       "NC-17                                157\n",
       "Unrated                                5\n",
       "-                                      1\n",
       "UR                                     1\n",
       "Not Rated                              1\n",
       "ScreamFest Horror Film Festival        1\n",
       "R                                      1\n",
       "PG-13                                  1\n",
       "10                                     1\n",
       "Name: certification, dtype: int64"
      ]
     },
     "execution_count": 8,
     "metadata": {},
     "output_type": "execute_result"
    }
   ],
   "source": [
    "# Exploring the certification column\n",
    "df['certification'].value_counts(dropna=False)"
   ]
  },
  {
   "cell_type": "code",
   "execution_count": 9,
   "id": "2eda0aea",
   "metadata": {},
   "outputs": [
    {
     "data": {
      "text/plain": [
       "array([nan, 'PG', 'R', 'G', 'NR', 'PG-13', 'NC-17', 'Unrated', '-', 'UR',\n",
       "       'Not Rated', 'ScreamFest Horror Film Festival', 'R ', 'PG-13 ',\n",
       "       '10'], dtype=object)"
      ]
     },
     "execution_count": 9,
     "metadata": {},
     "output_type": "execute_result"
    }
   ],
   "source": [
    "df['certification'].unique()"
   ]
  },
  {
   "cell_type": "code",
   "execution_count": 10,
   "id": "c5ac6c26",
   "metadata": {},
   "outputs": [
    {
     "data": {
      "text/plain": [
       "R        6126\n",
       "NR       3431\n",
       "PG-13    3261\n",
       "PG       1488\n",
       "G         474\n",
       "NC-17     157\n",
       "Name: certification, dtype: int64"
      ]
     },
     "execution_count": 10,
     "metadata": {},
     "output_type": "execute_result"
    }
   ],
   "source": [
    "### fix certification col: By removing extra space and compiling miscellaneous\n",
    "df['certification'] = df['certification'].str.strip()\n",
    "\n",
    "repl_cert = {'UR':'NR',\n",
    "             'Not Rated':'NR',\n",
    "             'Unrated':'NR',\n",
    "             '-':'NR',\n",
    "             '10':np.nan,\n",
    "             'ScreamFest Horror Film Festival':np.nan}\n",
    "df['certification'] = df['certification'].replace(repl_cert)\n",
    "df['certification'].value_counts()"
   ]
  },
  {
   "cell_type": "code",
   "execution_count": 11,
   "id": "72511705",
   "metadata": {},
   "outputs": [
    {
     "data": {
      "text/html": [
       "<div>\n",
       "<style scoped>\n",
       "    .dataframe tbody tr th:only-of-type {\n",
       "        vertical-align: middle;\n",
       "    }\n",
       "\n",
       "    .dataframe tbody tr th {\n",
       "        vertical-align: top;\n",
       "    }\n",
       "\n",
       "    .dataframe thead th {\n",
       "        text-align: right;\n",
       "    }\n",
       "</style>\n",
       "<table border=\"1\" class=\"dataframe\">\n",
       "  <thead>\n",
       "    <tr style=\"text-align: right;\">\n",
       "      <th></th>\n",
       "      <th>imdb_id</th>\n",
       "      <th>budget</th>\n",
       "      <th>genres</th>\n",
       "      <th>popularity</th>\n",
       "      <th>release_date</th>\n",
       "      <th>revenue</th>\n",
       "      <th>runtime</th>\n",
       "      <th>title</th>\n",
       "      <th>vote_average</th>\n",
       "      <th>vote_count</th>\n",
       "      <th>certification</th>\n",
       "    </tr>\n",
       "  </thead>\n",
       "  <tbody>\n",
       "    <tr>\n",
       "      <th>4</th>\n",
       "      <td>tt0118694</td>\n",
       "      <td>150000.0</td>\n",
       "      <td>[{'id': 18, 'name': 'Drama'}, {'id': 10749, 'n...</td>\n",
       "      <td>16.399</td>\n",
       "      <td>2000-09-29</td>\n",
       "      <td>12854953.0</td>\n",
       "      <td>99.0</td>\n",
       "      <td>In the Mood for Love</td>\n",
       "      <td>8.1</td>\n",
       "      <td>1867.0</td>\n",
       "      <td>PG</td>\n",
       "    </tr>\n",
       "    <tr>\n",
       "      <th>5</th>\n",
       "      <td>tt0118852</td>\n",
       "      <td>0.0</td>\n",
       "      <td>[{'id': 18, 'name': 'Drama'}]</td>\n",
       "      <td>5.051</td>\n",
       "      <td>2000-09-02</td>\n",
       "      <td>0.0</td>\n",
       "      <td>99.0</td>\n",
       "      <td>Chinese Coffee</td>\n",
       "      <td>6.9</td>\n",
       "      <td>46.0</td>\n",
       "      <td>R</td>\n",
       "    </tr>\n",
       "    <tr>\n",
       "      <th>6</th>\n",
       "      <td>tt0119273</td>\n",
       "      <td>15000000.0</td>\n",
       "      <td>[{'id': 28, 'name': 'Action'}, {'id': 12, 'nam...</td>\n",
       "      <td>12.233</td>\n",
       "      <td>2000-04-19</td>\n",
       "      <td>0.0</td>\n",
       "      <td>88.0</td>\n",
       "      <td>Heavy Metal 2000</td>\n",
       "      <td>6.1</td>\n",
       "      <td>149.0</td>\n",
       "      <td>R</td>\n",
       "    </tr>\n",
       "    <tr>\n",
       "      <th>7</th>\n",
       "      <td>tt0119495</td>\n",
       "      <td>0.0</td>\n",
       "      <td>[{'id': 35, 'name': 'Comedy'}, {'id': 10749, '...</td>\n",
       "      <td>0.600</td>\n",
       "      <td>2000-08-24</td>\n",
       "      <td>0.0</td>\n",
       "      <td>86.0</td>\n",
       "      <td>Love 101</td>\n",
       "      <td>0.0</td>\n",
       "      <td>0.0</td>\n",
       "      <td>R</td>\n",
       "    </tr>\n",
       "  </tbody>\n",
       "</table>\n",
       "</div>"
      ],
      "text/plain": [
       "     imdb_id      budget                                             genres  \\\n",
       "4  tt0118694    150000.0  [{'id': 18, 'name': 'Drama'}, {'id': 10749, 'n...   \n",
       "5  tt0118852         0.0                      [{'id': 18, 'name': 'Drama'}]   \n",
       "6  tt0119273  15000000.0  [{'id': 28, 'name': 'Action'}, {'id': 12, 'nam...   \n",
       "7  tt0119495         0.0  [{'id': 35, 'name': 'Comedy'}, {'id': 10749, '...   \n",
       "\n",
       "   popularity release_date     revenue  runtime                 title  \\\n",
       "4      16.399   2000-09-29  12854953.0     99.0  In the Mood for Love   \n",
       "5       5.051   2000-09-02         0.0     99.0        Chinese Coffee   \n",
       "6      12.233   2000-04-19         0.0     88.0      Heavy Metal 2000   \n",
       "7       0.600   2000-08-24         0.0     86.0              Love 101   \n",
       "\n",
       "   vote_average  vote_count certification  \n",
       "4           8.1      1867.0            PG  \n",
       "5           6.9        46.0             R  \n",
       "6           6.1       149.0             R  \n",
       "7           0.0         0.0             R  "
      ]
     },
     "execution_count": 11,
     "metadata": {},
     "output_type": "execute_result"
    }
   ],
   "source": [
    "not_na_cert = df['certification'].notna()\n",
    "df[not_na_cert].head(4)"
   ]
  },
  {
   "cell_type": "code",
   "execution_count": 12,
   "id": "086992ff",
   "metadata": {},
   "outputs": [],
   "source": [
    "# comb = df.loc[df[not_na_mask] & df[hig_rev]]\n",
    "# df[comb]"
   ]
  },
  {
   "cell_type": "markdown",
   "id": "e412f45c",
   "metadata": {},
   "source": [
    "ANOVA Test Assumption\n",
    "- Normality\n",
    "- Equal variance\n",
    "- No significant outliers"
   ]
  },
  {
   "cell_type": "code",
   "execution_count": 13,
   "id": "614332e6",
   "metadata": {},
   "outputs": [
    {
     "data": {
      "text/plain": [
       "dict_keys(['PG', 'R', 'G', 'NR', 'PG-13', 'NC-17'])"
      ]
     },
     "execution_count": 13,
     "metadata": {},
     "output_type": "execute_result"
    }
   ],
   "source": [
    "groups = {}\n",
    "for certification in df[not_na_cert]['certification'].unique():\n",
    "    review_data = df[not_na_cert].loc[df[not_na_cert]['certification']==certification,'revenue'].copy()\n",
    "    groups[certification] = review_data\n",
    "groups.keys()"
   ]
  },
  {
   "cell_type": "code",
   "execution_count": 14,
   "id": "d88a534b",
   "metadata": {},
   "outputs": [
    {
     "name": "stdout",
     "output_type": "stream",
     "text": [
      "41 outliers are in the PG group.\n",
      "121 outliers are in the R group.\n",
      "11 outliers are in the G group.\n",
      "27 outliers are in the NR group.\n",
      "88 outliers are in the PG-13 group.\n",
      "2 outliers are in the NC-17 group.\n"
     ]
    }
   ],
   "source": [
    "#Test for Outliers\n",
    "\n",
    "for certification, review_data in groups.items():\n",
    "    # Calculate the number of outliers\n",
    "    outliers = np.abs(stats.zscore(review_data)) > 3\n",
    "    print(f\"{outliers.sum()} outliers are in the {certification} group.\")"
   ]
  },
  {
   "cell_type": "code",
   "execution_count": 15,
   "id": "ae30f03b",
   "metadata": {},
   "outputs": [
    {
     "data": {
      "text/plain": [
       "507       0.0\n",
       "625       0.0\n",
       "972       0.0\n",
       "1250      0.0\n",
       "2679      0.0\n",
       "         ... \n",
       "61487     0.0\n",
       "61630     0.0\n",
       "61705    50.0\n",
       "61902     0.0\n",
       "62134     0.0\n",
       "Name: revenue, Length: 155, dtype: float64"
      ]
     },
     "execution_count": 15,
     "metadata": {},
     "output_type": "execute_result"
    }
   ],
   "source": [
    "    # Remove the outliers\n",
    "review_data = review_data.loc[~outliers]\n",
    "review_data"
   ]
  },
  {
   "cell_type": "code",
   "execution_count": 16,
   "id": "df856900",
   "metadata": {},
   "outputs": [],
   "source": [
    "# 1. Test for Normality\n",
    "norm_results = {}\n",
    "for certification, review_data in groups.items():\n",
    "#n:size of group, p is p value\n",
    "    stat, p = stats.normaltest(review_data)\n",
    "    norm_results[certification] = {'n': len(review_data),\n",
    "                       'p':p}"
   ]
  },
  {
   "cell_type": "code",
   "execution_count": 17,
   "id": "a824a523",
   "metadata": {},
   "outputs": [
    {
     "data": {
      "text/html": [
       "<div>\n",
       "<style scoped>\n",
       "    .dataframe tbody tr th:only-of-type {\n",
       "        vertical-align: middle;\n",
       "    }\n",
       "\n",
       "    .dataframe tbody tr th {\n",
       "        vertical-align: top;\n",
       "    }\n",
       "\n",
       "    .dataframe thead th {\n",
       "        text-align: right;\n",
       "    }\n",
       "</style>\n",
       "<table border=\"1\" class=\"dataframe\">\n",
       "  <thead>\n",
       "    <tr style=\"text-align: right;\">\n",
       "      <th></th>\n",
       "      <th>n</th>\n",
       "      <th>p</th>\n",
       "    </tr>\n",
       "  </thead>\n",
       "  <tbody>\n",
       "    <tr>\n",
       "      <th>PG</th>\n",
       "      <td>1488.0</td>\n",
       "      <td>1.092566e-284</td>\n",
       "    </tr>\n",
       "    <tr>\n",
       "      <th>R</th>\n",
       "      <td>6126.0</td>\n",
       "      <td>0.000000e+00</td>\n",
       "    </tr>\n",
       "    <tr>\n",
       "      <th>G</th>\n",
       "      <td>474.0</td>\n",
       "      <td>5.151997e-123</td>\n",
       "    </tr>\n",
       "    <tr>\n",
       "      <th>NR</th>\n",
       "      <td>3431.0</td>\n",
       "      <td>0.000000e+00</td>\n",
       "    </tr>\n",
       "    <tr>\n",
       "      <th>PG-13</th>\n",
       "      <td>3261.0</td>\n",
       "      <td>0.000000e+00</td>\n",
       "    </tr>\n",
       "    <tr>\n",
       "      <th>NC-17</th>\n",
       "      <td>157.0</td>\n",
       "      <td>1.289786e-59</td>\n",
       "    </tr>\n",
       "  </tbody>\n",
       "</table>\n",
       "</div>"
      ],
      "text/plain": [
       "            n              p\n",
       "PG     1488.0  1.092566e-284\n",
       "R      6126.0   0.000000e+00\n",
       "G       474.0  5.151997e-123\n",
       "NR     3431.0   0.000000e+00\n",
       "PG-13  3261.0   0.000000e+00\n",
       "NC-17   157.0   1.289786e-59"
      ]
     },
     "execution_count": 17,
     "metadata": {},
     "output_type": "execute_result"
    }
   ],
   "source": [
    "#Converting the results to a dataframe\n",
    "norm_results_df= pd.DataFrame(norm_results).T\n",
    "norm_results_df "
   ]
  },
  {
   "cell_type": "code",
   "execution_count": 18,
   "id": "9658f1a8",
   "metadata": {},
   "outputs": [
    {
     "data": {
      "text/html": [
       "<div>\n",
       "<style scoped>\n",
       "    .dataframe tbody tr th:only-of-type {\n",
       "        vertical-align: middle;\n",
       "    }\n",
       "\n",
       "    .dataframe tbody tr th {\n",
       "        vertical-align: top;\n",
       "    }\n",
       "\n",
       "    .dataframe thead th {\n",
       "        text-align: right;\n",
       "    }\n",
       "</style>\n",
       "<table border=\"1\" class=\"dataframe\">\n",
       "  <thead>\n",
       "    <tr style=\"text-align: right;\">\n",
       "      <th></th>\n",
       "      <th>n</th>\n",
       "      <th>p</th>\n",
       "      <th>sig</th>\n",
       "    </tr>\n",
       "  </thead>\n",
       "  <tbody>\n",
       "    <tr>\n",
       "      <th>PG</th>\n",
       "      <td>1488.0</td>\n",
       "      <td>1.092566e-284</td>\n",
       "      <td>True</td>\n",
       "    </tr>\n",
       "    <tr>\n",
       "      <th>R</th>\n",
       "      <td>6126.0</td>\n",
       "      <td>0.000000e+00</td>\n",
       "      <td>True</td>\n",
       "    </tr>\n",
       "    <tr>\n",
       "      <th>G</th>\n",
       "      <td>474.0</td>\n",
       "      <td>5.151997e-123</td>\n",
       "      <td>True</td>\n",
       "    </tr>\n",
       "    <tr>\n",
       "      <th>NR</th>\n",
       "      <td>3431.0</td>\n",
       "      <td>0.000000e+00</td>\n",
       "      <td>True</td>\n",
       "    </tr>\n",
       "    <tr>\n",
       "      <th>PG-13</th>\n",
       "      <td>3261.0</td>\n",
       "      <td>0.000000e+00</td>\n",
       "      <td>True</td>\n",
       "    </tr>\n",
       "    <tr>\n",
       "      <th>NC-17</th>\n",
       "      <td>157.0</td>\n",
       "      <td>1.289786e-59</td>\n",
       "      <td>True</td>\n",
       "    </tr>\n",
       "  </tbody>\n",
       "</table>\n",
       "</div>"
      ],
      "text/plain": [
       "            n              p   sig\n",
       "PG     1488.0  1.092566e-284  True\n",
       "R      6126.0   0.000000e+00  True\n",
       "G       474.0  5.151997e-123  True\n",
       "NR     3431.0   0.000000e+00  True\n",
       "PG-13  3261.0   0.000000e+00  True\n",
       "NC-17   157.0   1.289786e-59  True"
      ]
     },
     "execution_count": 18,
     "metadata": {},
     "output_type": "execute_result"
    }
   ],
   "source": [
    "norm_results_df['sig'] = norm_results_df['p'] < .05 \n",
    "norm_results_df"
   ]
  },
  {
   "cell_type": "markdown",
   "id": "92b785c4",
   "metadata": {},
   "source": [
    "- Since each group has large dataset, it is safe to ignore the normality \n",
    "distribution assumption"
   ]
  },
  {
   "cell_type": "code",
   "execution_count": 19,
   "id": "b558a6c4",
   "metadata": {},
   "outputs": [
    {
     "data": {
      "text/plain": [
       "LeveneResult(statistic=181.7535512005074, pvalue=1.8258319158029267e-188)"
      ]
     },
     "execution_count": 19,
     "metadata": {},
     "output_type": "execute_result"
    }
   ],
   "source": [
    "#Testing Assumption of Equal Variance\n",
    "stats.levene(*groups.values())"
   ]
  },
  {
   "cell_type": "markdown",
   "id": "aa2bbfb4",
   "metadata": {},
   "source": [
    "The p-value <0.05 this indicates unequal variance. Thus we reject the null hypothesis: \n",
    "That the groups are of equal variance.Hence the Kruskal-Wallis will be ran."
   ]
  },
  {
   "cell_type": "code",
   "execution_count": 20,
   "id": "21d02c69",
   "metadata": {},
   "outputs": [
    {
     "data": {
      "text/plain": [
       "KruskalResult(statistic=1901.557597820038, pvalue=0.0)"
      ]
     },
     "execution_count": 20,
     "metadata": {},
     "output_type": "execute_result"
    }
   ],
   "source": [
    "stats.kruskal(*groups.values())"
   ]
  },
  {
   "cell_type": "markdown",
   "id": "29f2f8cb",
   "metadata": {},
   "source": [
    "Since p >0.05, It is clear that there is a significant difference between the different ratings and revenue generating. This indicates that MPAA rating of a movie (G/PG/PG-13/R) affects how much revenue the movie generates"
   ]
  },
  {
   "cell_type": "code",
   "execution_count": 21,
   "id": "78e4e53b",
   "metadata": {},
   "outputs": [
    {
     "data": {
      "image/png": "[encoded data removed]",
      "text/plain": [
       "<Figure size 432x288 with 1 Axes>"
      ]
     },
     "metadata": {
      "needs_background": "light"
     },
     "output_type": "display_data"
    }
   ],
   "source": [
    "sns.barplot(data=df, x=df[not_na_cert]['certification'], y='revenue');"
   ]
  },
  {
   "cell_type": "markdown",
   "id": "25168f65",
   "metadata": {},
   "source": [
    "Visualization Interpretation \n",
    "- The PG , PG-13 generate more revenue than the rest. with PG-13 being the highest revenue generating movies\n",
    "- NR and NC-17 generate the least revenue"
   ]
  },
  {
   "cell_type": "markdown",
   "id": "2be868ce",
   "metadata": {},
   "source": [
    "# Hypothesis Testing #2:-Do Movies that are longer earn more revenue that shorter ones"
   ]
  },
  {
   "cell_type": "markdown",
   "id": "991550a5",
   "metadata": {},
   "source": [
    "- Null Hypothesis: There is no statistical difference between the runtime and revenue generated\n",
    "\n",
    "- Alternate Hypothesis: There is a statistical difference between the runtime and revenue generated"
   ]
  },
  {
   "cell_type": "markdown",
   "id": "6e43ec6a",
   "metadata": {},
   "source": [
    "Data types: Numerical and categorical\n",
    "Test: 2- Sample  T-test\n",
    "Assumptions: Normality, Outliers, Equal Variance"
   ]
  },
  {
   "cell_type": "code",
   "execution_count": 22,
   "id": "2c6a3894",
   "metadata": {},
   "outputs": [
    {
     "data": {
      "text/html": [
       "<div>\n",
       "<style scoped>\n",
       "    .dataframe tbody tr th:only-of-type {\n",
       "        vertical-align: middle;\n",
       "    }\n",
       "\n",
       "    .dataframe tbody tr th {\n",
       "        vertical-align: top;\n",
       "    }\n",
       "\n",
       "    .dataframe thead th {\n",
       "        text-align: right;\n",
       "    }\n",
       "</style>\n",
       "<table border=\"1\" class=\"dataframe\">\n",
       "  <thead>\n",
       "    <tr style=\"text-align: right;\">\n",
       "      <th></th>\n",
       "      <th>imdb_id</th>\n",
       "      <th>budget</th>\n",
       "      <th>genres</th>\n",
       "      <th>popularity</th>\n",
       "      <th>release_date</th>\n",
       "      <th>revenue</th>\n",
       "      <th>runtime</th>\n",
       "      <th>title</th>\n",
       "      <th>vote_average</th>\n",
       "      <th>vote_count</th>\n",
       "      <th>certification</th>\n",
       "    </tr>\n",
       "  </thead>\n",
       "  <tbody>\n",
       "    <tr>\n",
       "      <th>1</th>\n",
       "      <td>tt0113026</td>\n",
       "      <td>10000000.0</td>\n",
       "      <td>[{'id': 35, 'name': 'Comedy'}, {'id': 10402, '...</td>\n",
       "      <td>2.397</td>\n",
       "      <td>2000-09-22</td>\n",
       "      <td>0.0</td>\n",
       "      <td>86.0</td>\n",
       "      <td>The Fantasticks</td>\n",
       "      <td>5.4</td>\n",
       "      <td>21.0</td>\n",
       "      <td>NaN</td>\n",
       "    </tr>\n",
       "    <tr>\n",
       "      <th>2</th>\n",
       "      <td>tt0113092</td>\n",
       "      <td>0.0</td>\n",
       "      <td>[{'id': 878, 'name': 'Science Fiction'}]</td>\n",
       "      <td>1.755</td>\n",
       "      <td>2000-11-15</td>\n",
       "      <td>0.0</td>\n",
       "      <td>100.0</td>\n",
       "      <td>For the Cause</td>\n",
       "      <td>4.4</td>\n",
       "      <td>7.0</td>\n",
       "      <td>NaN</td>\n",
       "    </tr>\n",
       "    <tr>\n",
       "      <th>3</th>\n",
       "      <td>tt0116391</td>\n",
       "      <td>0.0</td>\n",
       "      <td>[{'id': 18, 'name': 'Drama'}, {'id': 28, 'name...</td>\n",
       "      <td>0.600</td>\n",
       "      <td>2000-04-14</td>\n",
       "      <td>0.0</td>\n",
       "      <td>152.0</td>\n",
       "      <td>Gang</td>\n",
       "      <td>0.0</td>\n",
       "      <td>0.0</td>\n",
       "      <td>NaN</td>\n",
       "    </tr>\n",
       "  </tbody>\n",
       "</table>\n",
       "</div>"
      ],
      "text/plain": [
       "     imdb_id      budget                                             genres  \\\n",
       "1  tt0113026  10000000.0  [{'id': 35, 'name': 'Comedy'}, {'id': 10402, '...   \n",
       "2  tt0113092         0.0           [{'id': 878, 'name': 'Science Fiction'}]   \n",
       "3  tt0116391         0.0  [{'id': 18, 'name': 'Drama'}, {'id': 28, 'name...   \n",
       "\n",
       "   popularity release_date  revenue  runtime            title  vote_average  \\\n",
       "1       2.397   2000-09-22      0.0     86.0  The Fantasticks           5.4   \n",
       "2       1.755   2000-11-15      0.0    100.0    For the Cause           4.4   \n",
       "3       0.600   2000-04-14      0.0    152.0             Gang           0.0   \n",
       "\n",
       "   vote_count certification  \n",
       "1        21.0           NaN  \n",
       "2         7.0           NaN  \n",
       "3         0.0           NaN  "
      ]
     },
     "execution_count": 22,
     "metadata": {},
     "output_type": "execute_result"
    }
   ],
   "source": [
    "df.head(3)"
   ]
  },
  {
   "cell_type": "code",
   "execution_count": 23,
   "id": "86e5112d",
   "metadata": {},
   "outputs": [],
   "source": [
    "#Split data into two groups\n",
    "longer_time = df.loc[df['runtime'] > 150].copy()\n",
    "shorter_time = df.loc[df['runtime'] < 150].copy()"
   ]
  },
  {
   "cell_type": "code",
   "execution_count": 24,
   "id": "3e4c356d",
   "metadata": {},
   "outputs": [],
   "source": [
    "#Label the two groups\n",
    "longer_time['runtime'] = 'long'\n",
    "shorter_time['runtime'] = 'short'"
   ]
  },
  {
   "cell_type": "code",
   "execution_count": 25,
   "id": "94a26650",
   "metadata": {},
   "outputs": [],
   "source": [
    "comb_df = pd.concat([longer_time, shorter_time]).copy()"
   ]
  },
  {
   "cell_type": "code",
   "execution_count": null,
   "id": "5a3edcef",
   "metadata": {},
   "outputs": [],
   "source": [
    "#Dropping columns where revenue is zero\n",
    "comb_df.drop(comb_df[comb_df['revenue'] == 0.0].index, inplace = True)"
   ]
  },
  {
   "cell_type": "code",
   "execution_count": 27,
   "id": "e2ec2967",
   "metadata": {},
   "outputs": [
    {
     "data": {
      "text/html": [
       "<div>\n",
       "<style scoped>\n",
       "    .dataframe tbody tr th:only-of-type {\n",
       "        vertical-align: middle;\n",
       "    }\n",
       "\n",
       "    .dataframe tbody tr th {\n",
       "        vertical-align: top;\n",
       "    }\n",
       "\n",
       "    .dataframe thead th {\n",
       "        text-align: right;\n",
       "    }\n",
       "</style>\n",
       "<table border=\"1\" class=\"dataframe\">\n",
       "  <thead>\n",
       "    <tr style=\"text-align: right;\">\n",
       "      <th></th>\n",
       "      <th>revenue</th>\n",
       "      <th>runtime</th>\n",
       "    </tr>\n",
       "  </thead>\n",
       "  <tbody>\n",
       "    <tr>\n",
       "      <th>65</th>\n",
       "      <td>15000000.0</td>\n",
       "      <td>long</td>\n",
       "    </tr>\n",
       "    <tr>\n",
       "      <th>167</th>\n",
       "      <td>465361176.0</td>\n",
       "      <td>long</td>\n",
       "    </tr>\n",
       "    <tr>\n",
       "      <th>254</th>\n",
       "      <td>215294342.0</td>\n",
       "      <td>long</td>\n",
       "    </tr>\n",
       "    <tr>\n",
       "      <th>617</th>\n",
       "      <td>4900000.0</td>\n",
       "      <td>long</td>\n",
       "    </tr>\n",
       "    <tr>\n",
       "      <th>821</th>\n",
       "      <td>500000.0</td>\n",
       "      <td>long</td>\n",
       "    </tr>\n",
       "    <tr>\n",
       "      <th>...</th>\n",
       "      <td>...</td>\n",
       "      <td>...</td>\n",
       "    </tr>\n",
       "    <tr>\n",
       "      <th>62580</th>\n",
       "      <td>8756.0</td>\n",
       "      <td>short</td>\n",
       "    </tr>\n",
       "    <tr>\n",
       "      <th>62588</th>\n",
       "      <td>6416063.0</td>\n",
       "      <td>short</td>\n",
       "    </tr>\n",
       "    <tr>\n",
       "      <th>62600</th>\n",
       "      <td>19002036.0</td>\n",
       "      <td>short</td>\n",
       "    </tr>\n",
       "    <tr>\n",
       "      <th>62601</th>\n",
       "      <td>44888959.0</td>\n",
       "      <td>short</td>\n",
       "    </tr>\n",
       "    <tr>\n",
       "      <th>62623</th>\n",
       "      <td>4588389.0</td>\n",
       "      <td>short</td>\n",
       "    </tr>\n",
       "  </tbody>\n",
       "</table>\n",
       "<p>7450 rows × 2 columns</p>\n",
       "</div>"
      ],
      "text/plain": [
       "           revenue runtime\n",
       "65      15000000.0    long\n",
       "167    465361176.0    long\n",
       "254    215294342.0    long\n",
       "617      4900000.0    long\n",
       "821       500000.0    long\n",
       "...            ...     ...\n",
       "62580       8756.0   short\n",
       "62588    6416063.0   short\n",
       "62600   19002036.0   short\n",
       "62601   44888959.0   short\n",
       "62623    4588389.0   short\n",
       "\n",
       "[7450 rows x 2 columns]"
      ]
     },
     "execution_count": 27,
     "metadata": {},
     "output_type": "execute_result"
    }
   ],
   "source": [
    "#Display only columns of interest\n",
    "rev_time = comb_df[[\"revenue\", \"runtime\"]]\n",
    "rev_time"
   ]
  },
  {
   "cell_type": "code",
   "execution_count": 28,
   "id": "f08169c5",
   "metadata": {},
   "outputs": [],
   "source": [
    "longer_rev = longer_time['revenue']\n",
    "shorter_rev = shorter_time['revenue']"
   ]
  },
  {
   "cell_type": "code",
   "execution_count": 29,
   "id": "1bd0e742",
   "metadata": {},
   "outputs": [
    {
     "name": "stdout",
     "output_type": "stream",
     "text": [
      "25 outliers are in the 1106 longer movies group.\n"
     ]
    }
   ],
   "source": [
    "# Check for outliers\n",
    "zscores= stats.zscore(longer_rev)\n",
    "outliers_long = abs(zscores)>3\n",
    "np.sum(outliers_long)\n",
    "print(f\"{outliers_long.sum()} outliers are in the {len(longer_rev)} longer movies group.\")"
   ]
  },
  {
   "cell_type": "code",
   "execution_count": 30,
   "id": "f6393757",
   "metadata": {},
   "outputs": [
    {
     "data": {
      "text/plain": [
       "3                0.0\n",
       "47               0.0\n",
       "65        15000000.0\n",
       "167      465361176.0\n",
       "220              0.0\n",
       "            ...     \n",
       "62501            0.0\n",
       "62524            0.0\n",
       "62535            0.0\n",
       "62542            0.0\n",
       "62603            0.0\n",
       "Name: revenue, Length: 1081, dtype: float64"
      ]
     },
     "execution_count": 30,
     "metadata": {},
     "output_type": "execute_result"
    }
   ],
   "source": [
    "longer_rev= longer_rev.loc[~outliers_long]\n",
    "longer_rev"
   ]
  },
  {
   "cell_type": "code",
   "execution_count": 31,
   "id": "cbd25c33",
   "metadata": {},
   "outputs": [
    {
     "name": "stdout",
     "output_type": "stream",
     "text": [
      "698 outliers are in the 60322 shorter movies group.\n"
     ]
    }
   ],
   "source": [
    "# Check for outliers\n",
    "zscores= stats.zscore(shorter_rev)\n",
    "outliers_short = abs(zscores)>3\n",
    "np.sum(outliers_short)\n",
    "print(f\"{outliers_short.sum()} outliers are in the {len(shorter_rev)} shorter movies group.\")"
   ]
  },
  {
   "cell_type": "code",
   "execution_count": 32,
   "id": "35702ddc",
   "metadata": {},
   "outputs": [
    {
     "data": {
      "text/plain": [
       "1               0.0\n",
       "2               0.0\n",
       "4        12854953.0\n",
       "5               0.0\n",
       "6               0.0\n",
       "            ...    \n",
       "62619           0.0\n",
       "62620           0.0\n",
       "62621           0.0\n",
       "62622           0.0\n",
       "62623     4588389.0\n",
       "Name: revenue, Length: 59624, dtype: float64"
      ]
     },
     "execution_count": 32,
     "metadata": {},
     "output_type": "execute_result"
    }
   ],
   "source": [
    "#Remove outliers\n",
    "shorter_rev= shorter_rev.loc[~outliers_short]\n",
    "shorter_rev"
   ]
  },
  {
   "cell_type": "markdown",
   "id": "8d5df209",
   "metadata": {},
   "source": [
    "- Test for Normality"
   ]
  },
  {
   "cell_type": "code",
   "execution_count": 33,
   "id": "fd03df7c",
   "metadata": {},
   "outputs": [
    {
     "data": {
      "text/plain": [
       "NormaltestResult(statistic=1225.7610331495905, pvalue=6.75108514789691e-267)"
      ]
     },
     "execution_count": 33,
     "metadata": {},
     "output_type": "execute_result"
    }
   ],
   "source": [
    "result_longer = stats.normaltest(longer_rev)\n",
    "result_longer"
   ]
  },
  {
   "cell_type": "code",
   "execution_count": 34,
   "id": "1c374587",
   "metadata": {},
   "outputs": [
    {
     "data": {
      "text/plain": [
       "NormaltestResult(statistic=75305.21453240325, pvalue=0.0)"
      ]
     },
     "execution_count": 34,
     "metadata": {},
     "output_type": "execute_result"
    }
   ],
   "source": [
    "result_shorter = stats.normaltest(shorter_rev)\n",
    "result_shorter"
   ]
  },
  {
   "cell_type": "markdown",
   "id": "48ad9133",
   "metadata": {},
   "source": [
    "- Test of Equal Variance(Levene's Test)"
   ]
  },
  {
   "cell_type": "code",
   "execution_count": 35,
   "id": "dd08e4a1",
   "metadata": {},
   "outputs": [
    {
     "data": {
      "text/plain": [
       "LeveneResult(statistic=538.2071811241339, pvalue=1.5220537216807393e-118)"
      ]
     },
     "execution_count": 35,
     "metadata": {},
     "output_type": "execute_result"
    }
   ],
   "source": [
    "result = stats.levene(longer_rev, shorter_rev)\n",
    "result"
   ]
  },
  {
   "cell_type": "markdown",
   "id": "c2f26923",
   "metadata": {},
   "source": [
    "- The results showed unequal variance: Hence an alternate test  Welch's Test will be run"
   ]
  },
  {
   "cell_type": "markdown",
   "id": "64f2a71e",
   "metadata": {},
   "source": [
    "- Alternative Unequal Variance Test"
   ]
  },
  {
   "cell_type": "code",
   "execution_count": 36,
   "id": "0462c559",
   "metadata": {},
   "outputs": [
    {
     "data": {
      "text/plain": [
       "Ttest_indResult(statistic=6.465409992156868, pvalue=1.5257049084406301e-10)"
      ]
     },
     "execution_count": 36,
     "metadata": {},
     "output_type": "execute_result"
    }
   ],
   "source": [
    "result2 = stats.ttest_ind(longer_rev, shorter_rev, equal_var = False)\n",
    "result2"
   ]
  },
  {
   "cell_type": "code",
   "execution_count": 37,
   "id": "b8614edc",
   "metadata": {},
   "outputs": [
    {
     "data": {
      "text/plain": [
       "MannwhitneyuResult(statistic=36362301.0, pvalue=2.6405365353209805e-40)"
      ]
     },
     "execution_count": 37,
     "metadata": {},
     "output_type": "execute_result"
    }
   ],
   "source": [
    "from scipy import stats\n",
    "stats.mannwhitneyu(longer_rev, shorter_rev)"
   ]
  },
  {
   "cell_type": "markdown",
   "id": "0b7d2ba6",
   "metadata": {},
   "source": [
    "- The p-value<0.05 thus we reject the null hypothesis as it is evident there is a statistical difference between the runtime of the movies and revenue generated. {The longer movies generated more revenue compared to shorter movies}"
   ]
  },
  {
   "cell_type": "code",
   "execution_count": 38,
   "id": "1fd0b5f9",
   "metadata": {},
   "outputs": [
    {
     "name": "stdout",
     "output_type": "stream",
     "text": [
      "the shorter movies revenue mean is:2735782.9985576277\n",
      "the longer movies revenue mean is:14750840.046253469\n"
     ]
    }
   ],
   "source": [
    "s_mean = shorter_rev.mean()\n",
    "print(f'the shorter movies revenue mean is:{s_mean}')\n",
    "l_mean = longer_rev.mean()\n",
    "print(f'the longer movies revenue mean is:{l_mean}')"
   ]
  },
  {
   "cell_type": "code",
   "execution_count": 39,
   "id": "0e47bc1c",
   "metadata": {},
   "outputs": [
    {
     "data": {
      "image/png": "[encoded data removed]",
      "text/plain": [
       "<Figure size 432x288 with 1 Axes>"
      ]
     },
     "metadata": {
      "needs_background": "light"
     },
     "output_type": "display_data"
    }
   ],
   "source": [
    "sns.barplot(data=comb_df, x='runtime', y='revenue', ci=68.2);"
   ]
  },
  {
   "cell_type": "markdown",
   "id": "5b6eb58c",
   "metadata": {},
   "source": [
    "-From the Visualization it is clear the longer movies generated more revenue compared to shorter movies"
   ]
  },
  {
   "cell_type": "markdown",
   "id": "e1793b52",
   "metadata": {},
   "source": [
    "#  Do movies released in 2020 earn less revenue than movies released in 2018?\n",
    "- How do the years compare for movie ratings?"
   ]
  },
  {
   "cell_type": "markdown",
   "id": "68c2c910",
   "metadata": {},
   "source": [
    "- Null Hypothesis: There is no statistical difference between the year released and revenue generated\n",
    "\n",
    "- Alternate Hypothesis: There is a statistical difference between the year released and revenue generated"
   ]
  },
  {
   "cell_type": "markdown",
   "id": "a72618d4",
   "metadata": {},
   "source": [
    "- Hypothesis Test\n",
    "\n",
    "Data types: two groups, both numerical data\n",
    "\n",
    "Test: 2-Sample T-test\n",
    "\n",
    "Test Assumptions: Normality, Equal Variance and Outliers"
   ]
  },
  {
   "cell_type": "code",
   "execution_count": 76,
   "id": "b1909a2b",
   "metadata": {},
   "outputs": [
    {
     "data": {
      "text/html": [
       "<div>\n",
       "<style scoped>\n",
       "    .dataframe tbody tr th:only-of-type {\n",
       "        vertical-align: middle;\n",
       "    }\n",
       "\n",
       "    .dataframe tbody tr th {\n",
       "        vertical-align: top;\n",
       "    }\n",
       "\n",
       "    .dataframe thead th {\n",
       "        text-align: right;\n",
       "    }\n",
       "</style>\n",
       "<table border=\"1\" class=\"dataframe\">\n",
       "  <thead>\n",
       "    <tr style=\"text-align: right;\">\n",
       "      <th></th>\n",
       "      <th>imdb_id</th>\n",
       "      <th>budget</th>\n",
       "      <th>genres</th>\n",
       "      <th>popularity</th>\n",
       "      <th>release_date</th>\n",
       "      <th>revenue</th>\n",
       "      <th>runtime</th>\n",
       "      <th>title</th>\n",
       "      <th>vote_average</th>\n",
       "      <th>vote_count</th>\n",
       "      <th>certification</th>\n",
       "    </tr>\n",
       "  </thead>\n",
       "  <tbody>\n",
       "    <tr>\n",
       "      <th>1</th>\n",
       "      <td>tt0113026</td>\n",
       "      <td>10000000.0</td>\n",
       "      <td>[{'id': 35, 'name': 'Comedy'}, {'id': 10402, '...</td>\n",
       "      <td>2.397</td>\n",
       "      <td>2000-09-22</td>\n",
       "      <td>0.0</td>\n",
       "      <td>86.0</td>\n",
       "      <td>The Fantasticks</td>\n",
       "      <td>5.4</td>\n",
       "      <td>21.0</td>\n",
       "      <td>NaN</td>\n",
       "    </tr>\n",
       "    <tr>\n",
       "      <th>2</th>\n",
       "      <td>tt0113092</td>\n",
       "      <td>0.0</td>\n",
       "      <td>[{'id': 878, 'name': 'Science Fiction'}]</td>\n",
       "      <td>1.755</td>\n",
       "      <td>2000-11-15</td>\n",
       "      <td>0.0</td>\n",
       "      <td>100.0</td>\n",
       "      <td>For the Cause</td>\n",
       "      <td>4.4</td>\n",
       "      <td>7.0</td>\n",
       "      <td>NaN</td>\n",
       "    </tr>\n",
       "    <tr>\n",
       "      <th>3</th>\n",
       "      <td>tt0116391</td>\n",
       "      <td>0.0</td>\n",
       "      <td>[{'id': 18, 'name': 'Drama'}, {'id': 28, 'name...</td>\n",
       "      <td>0.600</td>\n",
       "      <td>2000-04-14</td>\n",
       "      <td>0.0</td>\n",
       "      <td>152.0</td>\n",
       "      <td>Gang</td>\n",
       "      <td>0.0</td>\n",
       "      <td>0.0</td>\n",
       "      <td>NaN</td>\n",
       "    </tr>\n",
       "    <tr>\n",
       "      <th>4</th>\n",
       "      <td>tt0118694</td>\n",
       "      <td>150000.0</td>\n",
       "      <td>[{'id': 18, 'name': 'Drama'}, {'id': 10749, 'n...</td>\n",
       "      <td>16.399</td>\n",
       "      <td>2000-09-29</td>\n",
       "      <td>12854953.0</td>\n",
       "      <td>99.0</td>\n",
       "      <td>In the Mood for Love</td>\n",
       "      <td>8.1</td>\n",
       "      <td>1867.0</td>\n",
       "      <td>PG</td>\n",
       "    </tr>\n",
       "    <tr>\n",
       "      <th>5</th>\n",
       "      <td>tt0118852</td>\n",
       "      <td>0.0</td>\n",
       "      <td>[{'id': 18, 'name': 'Drama'}]</td>\n",
       "      <td>5.051</td>\n",
       "      <td>2000-09-02</td>\n",
       "      <td>0.0</td>\n",
       "      <td>99.0</td>\n",
       "      <td>Chinese Coffee</td>\n",
       "      <td>6.9</td>\n",
       "      <td>46.0</td>\n",
       "      <td>R</td>\n",
       "    </tr>\n",
       "  </tbody>\n",
       "</table>\n",
       "</div>"
      ],
      "text/plain": [
       "     imdb_id      budget                                             genres  \\\n",
       "1  tt0113026  10000000.0  [{'id': 35, 'name': 'Comedy'}, {'id': 10402, '...   \n",
       "2  tt0113092         0.0           [{'id': 878, 'name': 'Science Fiction'}]   \n",
       "3  tt0116391         0.0  [{'id': 18, 'name': 'Drama'}, {'id': 28, 'name...   \n",
       "4  tt0118694    150000.0  [{'id': 18, 'name': 'Drama'}, {'id': 10749, 'n...   \n",
       "5  tt0118852         0.0                      [{'id': 18, 'name': 'Drama'}]   \n",
       "\n",
       "   popularity release_date     revenue  runtime                 title  \\\n",
       "1       2.397   2000-09-22         0.0     86.0       The Fantasticks   \n",
       "2       1.755   2000-11-15         0.0    100.0         For the Cause   \n",
       "3       0.600   2000-04-14         0.0    152.0                  Gang   \n",
       "4      16.399   2000-09-29  12854953.0     99.0  In the Mood for Love   \n",
       "5       5.051   2000-09-02         0.0     99.0        Chinese Coffee   \n",
       "\n",
       "   vote_average  vote_count certification  \n",
       "1           5.4        21.0           NaN  \n",
       "2           4.4         7.0           NaN  \n",
       "3           0.0         0.0           NaN  \n",
       "4           8.1      1867.0            PG  \n",
       "5           6.9        46.0             R  "
      ]
     },
     "execution_count": 76,
     "metadata": {},
     "output_type": "execute_result"
    }
   ],
   "source": [
    "df.head()"
   ]
  },
  {
   "cell_type": "code",
   "execution_count": 77,
   "id": "d8c9fe2e",
   "metadata": {},
   "outputs": [
    {
     "name": "stdout",
     "output_type": "stream",
     "text": [
      "<class 'pandas.core.frame.DataFrame'>\n",
      "Int64Index: 62602 entries, 1 to 62623\n",
      "Data columns (total 11 columns):\n",
      " #   Column         Non-Null Count  Dtype  \n",
      "---  ------         --------------  -----  \n",
      " 0   imdb_id        62602 non-null  object \n",
      " 1   budget         62602 non-null  float64\n",
      " 2   genres         62602 non-null  object \n",
      " 3   popularity     62602 non-null  float64\n",
      " 4   release_date   61402 non-null  object \n",
      " 5   revenue        62602 non-null  float64\n",
      " 6   runtime        61556 non-null  float64\n",
      " 7   title          62602 non-null  object \n",
      " 8   vote_average   62602 non-null  float64\n",
      " 9   vote_count     62602 non-null  float64\n",
      " 10  certification  14937 non-null  object \n",
      "dtypes: float64(6), object(5)\n",
      "memory usage: 7.7+ MB\n"
     ]
    }
   ],
   "source": [
    "df.info()"
   ]
  },
  {
   "cell_type": "code",
   "execution_count": 78,
   "id": "8c478ef7",
   "metadata": {},
   "outputs": [
    {
     "data": {
      "text/html": [
       "<div>\n",
       "<style scoped>\n",
       "    .dataframe tbody tr th:only-of-type {\n",
       "        vertical-align: middle;\n",
       "    }\n",
       "\n",
       "    .dataframe tbody tr th {\n",
       "        vertical-align: top;\n",
       "    }\n",
       "\n",
       "    .dataframe thead th {\n",
       "        text-align: right;\n",
       "    }\n",
       "</style>\n",
       "<table border=\"1\" class=\"dataframe\">\n",
       "  <thead>\n",
       "    <tr style=\"text-align: right;\">\n",
       "      <th></th>\n",
       "      <th>0</th>\n",
       "      <th>1</th>\n",
       "      <th>2</th>\n",
       "    </tr>\n",
       "  </thead>\n",
       "  <tbody>\n",
       "    <tr>\n",
       "      <th>1</th>\n",
       "      <td>2000</td>\n",
       "      <td>09</td>\n",
       "      <td>22</td>\n",
       "    </tr>\n",
       "    <tr>\n",
       "      <th>2</th>\n",
       "      <td>2000</td>\n",
       "      <td>11</td>\n",
       "      <td>15</td>\n",
       "    </tr>\n",
       "    <tr>\n",
       "      <th>3</th>\n",
       "      <td>2000</td>\n",
       "      <td>04</td>\n",
       "      <td>14</td>\n",
       "    </tr>\n",
       "    <tr>\n",
       "      <th>4</th>\n",
       "      <td>2000</td>\n",
       "      <td>09</td>\n",
       "      <td>29</td>\n",
       "    </tr>\n",
       "    <tr>\n",
       "      <th>5</th>\n",
       "      <td>2000</td>\n",
       "      <td>09</td>\n",
       "      <td>02</td>\n",
       "    </tr>\n",
       "    <tr>\n",
       "      <th>...</th>\n",
       "      <td>...</td>\n",
       "      <td>...</td>\n",
       "      <td>...</td>\n",
       "    </tr>\n",
       "    <tr>\n",
       "      <th>62619</th>\n",
       "      <td>2021</td>\n",
       "      <td>09</td>\n",
       "      <td>08</td>\n",
       "    </tr>\n",
       "    <tr>\n",
       "      <th>62620</th>\n",
       "      <td>2021</td>\n",
       "      <td>11</td>\n",
       "      <td>19</td>\n",
       "    </tr>\n",
       "    <tr>\n",
       "      <th>62621</th>\n",
       "      <td>2022</td>\n",
       "      <td>01</td>\n",
       "      <td>21</td>\n",
       "    </tr>\n",
       "    <tr>\n",
       "      <th>62622</th>\n",
       "      <td>2021</td>\n",
       "      <td>12</td>\n",
       "      <td>07</td>\n",
       "    </tr>\n",
       "    <tr>\n",
       "      <th>62623</th>\n",
       "      <td>2021</td>\n",
       "      <td>07</td>\n",
       "      <td>28</td>\n",
       "    </tr>\n",
       "  </tbody>\n",
       "</table>\n",
       "<p>62602 rows × 3 columns</p>\n",
       "</div>"
      ],
      "text/plain": [
       "          0   1   2\n",
       "1      2000  09  22\n",
       "2      2000  11  15\n",
       "3      2000  04  14\n",
       "4      2000  09  29\n",
       "5      2000  09  02\n",
       "...     ...  ..  ..\n",
       "62619  2021  09  08\n",
       "62620  2021  11  19\n",
       "62621  2022  01  21\n",
       "62622  2021  12  07\n",
       "62623  2021  07  28\n",
       "\n",
       "[62602 rows x 3 columns]"
      ]
     },
     "execution_count": 78,
     "metadata": {},
     "output_type": "execute_result"
    }
   ],
   "source": [
    "df['release_date']\n",
    "df['release_date'].str.split('-', expand=True)"
   ]
  },
  {
   "cell_type": "code",
   "execution_count": 103,
   "id": "3e9b7a4c",
   "metadata": {},
   "outputs": [
    {
     "data": {
      "text/html": [
       "<div>\n",
       "<style scoped>\n",
       "    .dataframe tbody tr th:only-of-type {\n",
       "        vertical-align: middle;\n",
       "    }\n",
       "\n",
       "    .dataframe tbody tr th {\n",
       "        vertical-align: top;\n",
       "    }\n",
       "\n",
       "    .dataframe thead th {\n",
       "        text-align: right;\n",
       "    }\n",
       "</style>\n",
       "<table border=\"1\" class=\"dataframe\">\n",
       "  <thead>\n",
       "    <tr style=\"text-align: right;\">\n",
       "      <th></th>\n",
       "      <th>imdb_id</th>\n",
       "      <th>budget</th>\n",
       "      <th>genres</th>\n",
       "      <th>popularity</th>\n",
       "      <th>release_date</th>\n",
       "      <th>revenue</th>\n",
       "      <th>runtime</th>\n",
       "      <th>title</th>\n",
       "      <th>vote_average</th>\n",
       "      <th>vote_count</th>\n",
       "      <th>certification</th>\n",
       "      <th>year</th>\n",
       "      <th>month</th>\n",
       "      <th>day</th>\n",
       "    </tr>\n",
       "  </thead>\n",
       "  <tbody>\n",
       "    <tr>\n",
       "      <th>1</th>\n",
       "      <td>tt0113026</td>\n",
       "      <td>10000000.0</td>\n",
       "      <td>[{'id': 35, 'name': 'Comedy'}, {'id': 10402, '...</td>\n",
       "      <td>2.397</td>\n",
       "      <td>2000-09-22</td>\n",
       "      <td>0.0</td>\n",
       "      <td>86.0</td>\n",
       "      <td>The Fantasticks</td>\n",
       "      <td>5.4</td>\n",
       "      <td>21.0</td>\n",
       "      <td>NaN</td>\n",
       "      <td>2000.0</td>\n",
       "      <td>9.0</td>\n",
       "      <td>22.0</td>\n",
       "    </tr>\n",
       "    <tr>\n",
       "      <th>2</th>\n",
       "      <td>tt0113092</td>\n",
       "      <td>0.0</td>\n",
       "      <td>[{'id': 878, 'name': 'Science Fiction'}]</td>\n",
       "      <td>1.755</td>\n",
       "      <td>2000-11-15</td>\n",
       "      <td>0.0</td>\n",
       "      <td>100.0</td>\n",
       "      <td>For the Cause</td>\n",
       "      <td>4.4</td>\n",
       "      <td>7.0</td>\n",
       "      <td>NaN</td>\n",
       "      <td>2000.0</td>\n",
       "      <td>11.0</td>\n",
       "      <td>15.0</td>\n",
       "    </tr>\n",
       "    <tr>\n",
       "      <th>3</th>\n",
       "      <td>tt0116391</td>\n",
       "      <td>0.0</td>\n",
       "      <td>[{'id': 18, 'name': 'Drama'}, {'id': 28, 'name...</td>\n",
       "      <td>0.600</td>\n",
       "      <td>2000-04-14</td>\n",
       "      <td>0.0</td>\n",
       "      <td>152.0</td>\n",
       "      <td>Gang</td>\n",
       "      <td>0.0</td>\n",
       "      <td>0.0</td>\n",
       "      <td>NaN</td>\n",
       "      <td>2000.0</td>\n",
       "      <td>4.0</td>\n",
       "      <td>14.0</td>\n",
       "    </tr>\n",
       "    <tr>\n",
       "      <th>4</th>\n",
       "      <td>tt0118694</td>\n",
       "      <td>150000.0</td>\n",
       "      <td>[{'id': 18, 'name': 'Drama'}, {'id': 10749, 'n...</td>\n",
       "      <td>16.399</td>\n",
       "      <td>2000-09-29</td>\n",
       "      <td>12854953.0</td>\n",
       "      <td>99.0</td>\n",
       "      <td>In the Mood for Love</td>\n",
       "      <td>8.1</td>\n",
       "      <td>1867.0</td>\n",
       "      <td>PG</td>\n",
       "      <td>2000.0</td>\n",
       "      <td>9.0</td>\n",
       "      <td>29.0</td>\n",
       "    </tr>\n",
       "    <tr>\n",
       "      <th>5</th>\n",
       "      <td>tt0118852</td>\n",
       "      <td>0.0</td>\n",
       "      <td>[{'id': 18, 'name': 'Drama'}]</td>\n",
       "      <td>5.051</td>\n",
       "      <td>2000-09-02</td>\n",
       "      <td>0.0</td>\n",
       "      <td>99.0</td>\n",
       "      <td>Chinese Coffee</td>\n",
       "      <td>6.9</td>\n",
       "      <td>46.0</td>\n",
       "      <td>R</td>\n",
       "      <td>2000.0</td>\n",
       "      <td>9.0</td>\n",
       "      <td>2.0</td>\n",
       "    </tr>\n",
       "  </tbody>\n",
       "</table>\n",
       "</div>"
      ],
      "text/plain": [
       "     imdb_id      budget                                             genres  \\\n",
       "1  tt0113026  10000000.0  [{'id': 35, 'name': 'Comedy'}, {'id': 10402, '...   \n",
       "2  tt0113092         0.0           [{'id': 878, 'name': 'Science Fiction'}]   \n",
       "3  tt0116391         0.0  [{'id': 18, 'name': 'Drama'}, {'id': 28, 'name...   \n",
       "4  tt0118694    150000.0  [{'id': 18, 'name': 'Drama'}, {'id': 10749, 'n...   \n",
       "5  tt0118852         0.0                      [{'id': 18, 'name': 'Drama'}]   \n",
       "\n",
       "   popularity release_date     revenue  runtime                 title  \\\n",
       "1       2.397   2000-09-22         0.0     86.0       The Fantasticks   \n",
       "2       1.755   2000-11-15         0.0    100.0         For the Cause   \n",
       "3       0.600   2000-04-14         0.0    152.0                  Gang   \n",
       "4      16.399   2000-09-29  12854953.0     99.0  In the Mood for Love   \n",
       "5       5.051   2000-09-02         0.0     99.0        Chinese Coffee   \n",
       "\n",
       "   vote_average  vote_count certification    year  month   day  \n",
       "1           5.4        21.0           NaN  2000.0    9.0  22.0  \n",
       "2           4.4         7.0           NaN  2000.0   11.0  15.0  \n",
       "3           0.0         0.0           NaN  2000.0    4.0  14.0  \n",
       "4           8.1      1867.0            PG  2000.0    9.0  29.0  \n",
       "5           6.9        46.0             R  2000.0    9.0   2.0  "
      ]
     },
     "execution_count": 103,
     "metadata": {},
     "output_type": "execute_result"
    }
   ],
   "source": [
    "## split release date into 3 columns\n",
    "new_cols = ['year','month','day']\n",
    "df[new_cols] = df['release_date'].str.split('-',expand=True)\n",
    "df[new_cols] = df[new_cols].astype(float)\n",
    "df.head(5)"
   ]
  },
  {
   "cell_type": "code",
   "execution_count": 80,
   "id": "34516080",
   "metadata": {},
   "outputs": [],
   "source": [
    " #Split data into two groups\n",
    "year_2020 = df.loc[df['year'] == 2020.0].copy()\n",
    "year_2018= df.loc[df['year'] == 2018.0].copy()"
   ]
  },
  {
   "cell_type": "code",
   "execution_count": 82,
   "id": "e2a27d2e",
   "metadata": {},
   "outputs": [
    {
     "data": {
      "text/html": [
       "<div>\n",
       "<style scoped>\n",
       "    .dataframe tbody tr th:only-of-type {\n",
       "        vertical-align: middle;\n",
       "    }\n",
       "\n",
       "    .dataframe tbody tr th {\n",
       "        vertical-align: top;\n",
       "    }\n",
       "\n",
       "    .dataframe thead th {\n",
       "        text-align: right;\n",
       "    }\n",
       "</style>\n",
       "<table border=\"1\" class=\"dataframe\">\n",
       "  <thead>\n",
       "    <tr style=\"text-align: right;\">\n",
       "      <th></th>\n",
       "      <th>imdb_id</th>\n",
       "      <th>budget</th>\n",
       "      <th>genres</th>\n",
       "      <th>popularity</th>\n",
       "      <th>release_date</th>\n",
       "      <th>revenue</th>\n",
       "      <th>runtime</th>\n",
       "      <th>title</th>\n",
       "      <th>vote_average</th>\n",
       "      <th>vote_count</th>\n",
       "      <th>certification</th>\n",
       "      <th>year</th>\n",
       "      <th>month</th>\n",
       "      <th>day</th>\n",
       "    </tr>\n",
       "  </thead>\n",
       "  <tbody>\n",
       "    <tr>\n",
       "      <th>11772</th>\n",
       "      <td>tt1093869</td>\n",
       "      <td>0.0</td>\n",
       "      <td>[]</td>\n",
       "      <td>0.600</td>\n",
       "      <td>2020-12-12</td>\n",
       "      <td>0.0</td>\n",
       "      <td>0.0</td>\n",
       "      <td>White Lies, Black Sheep</td>\n",
       "      <td>0.0</td>\n",
       "      <td>0.0</td>\n",
       "      <td>NaN</td>\n",
       "      <td>2020.0</td>\n",
       "      <td>12.0</td>\n",
       "      <td>12.0</td>\n",
       "    </tr>\n",
       "    <tr>\n",
       "      <th>15963</th>\n",
       "      <td>tt1441950</td>\n",
       "      <td>0.0</td>\n",
       "      <td>[{'id': 18, 'name': 'Drama'}]</td>\n",
       "      <td>1.790</td>\n",
       "      <td>2020-04-28</td>\n",
       "      <td>0.0</td>\n",
       "      <td>90.0</td>\n",
       "      <td>Pressure</td>\n",
       "      <td>10.0</td>\n",
       "      <td>1.0</td>\n",
       "      <td>NaN</td>\n",
       "      <td>2020.0</td>\n",
       "      <td>4.0</td>\n",
       "      <td>28.0</td>\n",
       "    </tr>\n",
       "    <tr>\n",
       "      <th>18599</th>\n",
       "      <td>tt1628038</td>\n",
       "      <td>0.0</td>\n",
       "      <td>[{'id': 27, 'name': 'Horror'}]</td>\n",
       "      <td>0.600</td>\n",
       "      <td>2020-02-21</td>\n",
       "      <td>0.0</td>\n",
       "      <td>76.0</td>\n",
       "      <td>Eden Burning</td>\n",
       "      <td>0.0</td>\n",
       "      <td>0.0</td>\n",
       "      <td>NaN</td>\n",
       "      <td>2020.0</td>\n",
       "      <td>2.0</td>\n",
       "      <td>21.0</td>\n",
       "    </tr>\n",
       "    <tr>\n",
       "      <th>30126</th>\n",
       "      <td>tt3112954</td>\n",
       "      <td>0.0</td>\n",
       "      <td>[{'id': 18, 'name': 'Drama'}]</td>\n",
       "      <td>1.635</td>\n",
       "      <td>2020-10-01</td>\n",
       "      <td>0.0</td>\n",
       "      <td>0.0</td>\n",
       "      <td>Come Follow Me</td>\n",
       "      <td>7.0</td>\n",
       "      <td>1.0</td>\n",
       "      <td>NaN</td>\n",
       "      <td>2020.0</td>\n",
       "      <td>10.0</td>\n",
       "      <td>1.0</td>\n",
       "    </tr>\n",
       "    <tr>\n",
       "      <th>33541</th>\n",
       "      <td>tt3763854</td>\n",
       "      <td>0.0</td>\n",
       "      <td>[{'id': 27, 'name': 'Horror'}]</td>\n",
       "      <td>0.840</td>\n",
       "      <td>2020-07-07</td>\n",
       "      <td>0.0</td>\n",
       "      <td>105.0</td>\n",
       "      <td>Devil's Point</td>\n",
       "      <td>0.0</td>\n",
       "      <td>0.0</td>\n",
       "      <td>NaN</td>\n",
       "      <td>2020.0</td>\n",
       "      <td>7.0</td>\n",
       "      <td>7.0</td>\n",
       "    </tr>\n",
       "  </tbody>\n",
       "</table>\n",
       "</div>"
      ],
      "text/plain": [
       "         imdb_id  budget                          genres  popularity  \\\n",
       "11772  tt1093869     0.0                              []       0.600   \n",
       "15963  tt1441950     0.0   [{'id': 18, 'name': 'Drama'}]       1.790   \n",
       "18599  tt1628038     0.0  [{'id': 27, 'name': 'Horror'}]       0.600   \n",
       "30126  tt3112954     0.0   [{'id': 18, 'name': 'Drama'}]       1.635   \n",
       "33541  tt3763854     0.0  [{'id': 27, 'name': 'Horror'}]       0.840   \n",
       "\n",
       "      release_date  revenue  runtime                    title  vote_average  \\\n",
       "11772   2020-12-12      0.0      0.0  White Lies, Black Sheep           0.0   \n",
       "15963   2020-04-28      0.0     90.0                 Pressure          10.0   \n",
       "18599   2020-02-21      0.0     76.0             Eden Burning           0.0   \n",
       "30126   2020-10-01      0.0      0.0           Come Follow Me           7.0   \n",
       "33541   2020-07-07      0.0    105.0            Devil's Point           0.0   \n",
       "\n",
       "       vote_count certification    year  month   day  \n",
       "11772         0.0           NaN  2020.0   12.0  12.0  \n",
       "15963         1.0           NaN  2020.0    4.0  28.0  \n",
       "18599         0.0           NaN  2020.0    2.0  21.0  \n",
       "30126         1.0           NaN  2020.0   10.0   1.0  \n",
       "33541         0.0           NaN  2020.0    7.0   7.0  "
      ]
     },
     "execution_count": 82,
     "metadata": {},
     "output_type": "execute_result"
    }
   ],
   "source": [
    "year_df = pd.concat([year_2020, year_2018]).copy()\n",
    "year_df.head(5)"
   ]
  },
  {
   "cell_type": "code",
   "execution_count": 83,
   "id": "d3128672",
   "metadata": {},
   "outputs": [],
   "source": [
    "#Dropping columns where revenue is zero\n",
    "year_df.drop(year_df[year_df['revenue'] == 0.0].index, inplace = True)"
   ]
  },
  {
   "cell_type": "code",
   "execution_count": 84,
   "id": "c7d08b42",
   "metadata": {},
   "outputs": [
    {
     "data": {
      "text/html": [
       "<div>\n",
       "<style scoped>\n",
       "    .dataframe tbody tr th:only-of-type {\n",
       "        vertical-align: middle;\n",
       "    }\n",
       "\n",
       "    .dataframe tbody tr th {\n",
       "        vertical-align: top;\n",
       "    }\n",
       "\n",
       "    .dataframe thead th {\n",
       "        text-align: right;\n",
       "    }\n",
       "</style>\n",
       "<table border=\"1\" class=\"dataframe\">\n",
       "  <thead>\n",
       "    <tr style=\"text-align: right;\">\n",
       "      <th></th>\n",
       "      <th>revenue</th>\n",
       "      <th>year</th>\n",
       "    </tr>\n",
       "  </thead>\n",
       "  <tbody>\n",
       "    <tr>\n",
       "      <th>47150</th>\n",
       "      <td>548608.0</td>\n",
       "      <td>2020.0</td>\n",
       "    </tr>\n",
       "    <tr>\n",
       "      <th>48242</th>\n",
       "      <td>26563.0</td>\n",
       "      <td>2020.0</td>\n",
       "    </tr>\n",
       "    <tr>\n",
       "      <th>50721</th>\n",
       "      <td>3364426.0</td>\n",
       "      <td>2020.0</td>\n",
       "    </tr>\n",
       "    <tr>\n",
       "      <th>51004</th>\n",
       "      <td>273639.0</td>\n",
       "      <td>2020.0</td>\n",
       "    </tr>\n",
       "    <tr>\n",
       "      <th>51525</th>\n",
       "      <td>742476.0</td>\n",
       "      <td>2020.0</td>\n",
       "    </tr>\n",
       "    <tr>\n",
       "      <th>...</th>\n",
       "      <td>...</td>\n",
       "      <td>...</td>\n",
       "    </tr>\n",
       "    <tr>\n",
       "      <th>50705</th>\n",
       "      <td>82446.0</td>\n",
       "      <td>2018.0</td>\n",
       "    </tr>\n",
       "    <tr>\n",
       "      <th>53016</th>\n",
       "      <td>140000.0</td>\n",
       "      <td>2018.0</td>\n",
       "    </tr>\n",
       "    <tr>\n",
       "      <th>54808</th>\n",
       "      <td>1892516.0</td>\n",
       "      <td>2018.0</td>\n",
       "    </tr>\n",
       "    <tr>\n",
       "      <th>57715</th>\n",
       "      <td>3.0</td>\n",
       "      <td>2018.0</td>\n",
       "    </tr>\n",
       "    <tr>\n",
       "      <th>57893</th>\n",
       "      <td>21000000.0</td>\n",
       "      <td>2018.0</td>\n",
       "    </tr>\n",
       "  </tbody>\n",
       "</table>\n",
       "<p>643 rows × 2 columns</p>\n",
       "</div>"
      ],
      "text/plain": [
       "          revenue    year\n",
       "47150    548608.0  2020.0\n",
       "48242     26563.0  2020.0\n",
       "50721   3364426.0  2020.0\n",
       "51004    273639.0  2020.0\n",
       "51525    742476.0  2020.0\n",
       "...           ...     ...\n",
       "50705     82446.0  2018.0\n",
       "53016    140000.0  2018.0\n",
       "54808   1892516.0  2018.0\n",
       "57715         3.0  2018.0\n",
       "57893  21000000.0  2018.0\n",
       "\n",
       "[643 rows x 2 columns]"
      ]
     },
     "execution_count": 84,
     "metadata": {},
     "output_type": "execute_result"
    }
   ],
   "source": [
    "#Display only columns of interest\n",
    "year_time = year_df[[\"revenue\", \"year\"]]\n",
    "year_time"
   ]
  },
  {
   "cell_type": "code",
   "execution_count": 87,
   "id": "8ffd9e9e",
   "metadata": {},
   "outputs": [],
   "source": [
    "year_recent = year_time.loc[year_time['year'] == 2020.0].copy()\n",
    "year_past = year_time.loc[year_time['year'] == 2018.0].copy()"
   ]
  },
  {
   "cell_type": "code",
   "execution_count": 89,
   "id": "49892a5e",
   "metadata": {},
   "outputs": [],
   "source": [
    "recent_rev = year_recent['revenue']\n",
    "past_rev = year_past['revenue']"
   ]
  },
  {
   "cell_type": "code",
   "execution_count": 91,
   "id": "64cc1caf",
   "metadata": {},
   "outputs": [
    {
     "name": "stdout",
     "output_type": "stream",
     "text": [
      "7 outliers are in the 237- recent 2020 movies group.\n"
     ]
    }
   ],
   "source": [
    "# Check for outliers\n",
    "zscores= stats.zscore(recent_rev)\n",
    "outliers_recent = abs(zscores)>3\n",
    "np.sum(outliers_recent)\n",
    "print(f\"{outliers_recent.sum()} outliers are in the {len(recent_rev)}- recent 2020 movies group.\")"
   ]
  },
  {
   "cell_type": "code",
   "execution_count": 93,
   "id": "047e0bb8",
   "metadata": {},
   "outputs": [
    {
     "data": {
      "text/plain": [
       "47150      548608.0\n",
       "48242       26563.0\n",
       "50721     3364426.0\n",
       "51004      273639.0\n",
       "51525      742476.0\n",
       "            ...    \n",
       "59059      225374.0\n",
       "59066       39328.0\n",
       "59073     6700000.0\n",
       "59086    11136444.0\n",
       "59094      236880.0\n",
       "Name: revenue, Length: 230, dtype: float64"
      ]
     },
     "execution_count": 93,
     "metadata": {},
     "output_type": "execute_result"
    }
   ],
   "source": [
    "#Remove outliers\n",
    "recent_rev= recent_rev.loc[~outliers_recent]\n",
    "recent_rev"
   ]
  },
  {
   "cell_type": "code",
   "execution_count": 92,
   "id": "095fe22e",
   "metadata": {},
   "outputs": [
    {
     "name": "stdout",
     "output_type": "stream",
     "text": [
      "9 outliers are in the 406- recent 2018 movies group.\n"
     ]
    }
   ],
   "source": [
    "# Check for outliers\n",
    "zscores= stats.zscore(past_rev)\n",
    "outliers_past = abs(zscores)>3\n",
    "np.sum(outliers_past)\n",
    "print(f\"{outliers_past.sum()} outliers are in the {len(past_rev)}- recent 2018 movies group.\")"
   ]
  },
  {
   "cell_type": "code",
   "execution_count": 94,
   "id": "46a57363",
   "metadata": {},
   "outputs": [
    {
     "data": {
      "text/plain": [
       "41895       10832.0\n",
       "41989     3335913.0\n",
       "42192    10615000.0\n",
       "42338          24.0\n",
       "42418      231719.0\n",
       "            ...    \n",
       "50705       82446.0\n",
       "53016      140000.0\n",
       "54808     1892516.0\n",
       "57715           3.0\n",
       "57893    21000000.0\n",
       "Name: revenue, Length: 397, dtype: float64"
      ]
     },
     "execution_count": 94,
     "metadata": {},
     "output_type": "execute_result"
    }
   ],
   "source": [
    "#Remove outliers\n",
    "past_rev= past_rev.loc[~outliers_past]\n",
    "past_rev"
   ]
  },
  {
   "cell_type": "code",
   "execution_count": 95,
   "id": "df934899",
   "metadata": {},
   "outputs": [
    {
     "data": {
      "text/plain": [
       "NormaltestResult(statistic=234.0050759817616, pvalue=1.5361845109315593e-51)"
      ]
     },
     "execution_count": 95,
     "metadata": {},
     "output_type": "execute_result"
    }
   ],
   "source": [
    "#Test for Normality\n",
    "result_recent = stats.normaltest(recent_rev)\n",
    "result_recent"
   ]
  },
  {
   "cell_type": "code",
   "execution_count": 96,
   "id": "7f66b60e",
   "metadata": {},
   "outputs": [
    {
     "data": {
      "text/plain": [
       "NormaltestResult(statistic=292.3084501507757, pvalue=3.3575813425194265e-64)"
      ]
     },
     "execution_count": 96,
     "metadata": {},
     "output_type": "execute_result"
    }
   ],
   "source": [
    "#Test for Normality\n",
    "result_past = stats.normaltest(past_rev)\n",
    "result_past"
   ]
  },
  {
   "cell_type": "markdown",
   "id": "b1af8fc0",
   "metadata": {},
   "source": [
    "- Since the two groups are greater than 15, we can ignore this assumption"
   ]
  },
  {
   "cell_type": "code",
   "execution_count": 97,
   "id": "35e59ddc",
   "metadata": {},
   "outputs": [
    {
     "data": {
      "text/plain": [
       "LeveneResult(statistic=27.00905549920521, pvalue=2.745848699251276e-07)"
      ]
     },
     "execution_count": 97,
     "metadata": {},
     "output_type": "execute_result"
    }
   ],
   "source": [
    "#Levene's Test [Equal Variance]\n",
    "result = stats.levene(recent_rev, past_rev)\n",
    "result"
   ]
  },
  {
   "cell_type": "markdown",
   "id": "f37780e1",
   "metadata": {},
   "source": [
    "Since p-value < 0.05 , this indicates that the two groups have unequal variance"
   ]
  },
  {
   "cell_type": "code",
   "execution_count": 98,
   "id": "3f5ee682",
   "metadata": {},
   "outputs": [
    {
     "data": {
      "text/plain": [
       "Ttest_indResult(statistic=-6.691023411811288, pvalue=6.188600307359937e-11)"
      ]
     },
     "execution_count": 98,
     "metadata": {},
     "output_type": "execute_result"
    }
   ],
   "source": [
    "# Welch's Test\n",
    "result2 = stats.ttest_ind(recent_rev, past_rev, equal_var = False)\n",
    "result2"
   ]
  },
  {
   "cell_type": "code",
   "execution_count": 100,
   "id": "11184236",
   "metadata": {},
   "outputs": [
    {
     "data": {
      "text/plain": [
       "MannwhitneyuResult(statistic=32295.0, pvalue=9.874040868977083e-10)"
      ]
     },
     "execution_count": 100,
     "metadata": {},
     "output_type": "execute_result"
    }
   ],
   "source": [
    "# Mann-Whitney U test\n",
    "stats.mannwhitneyu(recent_rev, past_rev)"
   ]
  },
  {
   "cell_type": "markdown",
   "id": "5f2a3b7d",
   "metadata": {},
   "source": [
    "- Since p value < 0.05, In the test for the assumption and the Mann-Whitney U Test Hence we can reject the null hypothesis and support the alternative hypothesis that there is a significance difference the years of the movies and revenue generated"
   ]
  },
  {
   "cell_type": "markdown",
   "id": "835a9b59",
   "metadata": {},
   "source": [
    "# Visualization of Comparison of Revenue Earned - 2020 VS 2018 Movies"
   ]
  },
  {
   "cell_type": "code",
   "execution_count": 102,
   "id": "e0c1e5a0",
   "metadata": {},
   "outputs": [
    {
     "data": {
      "image/png": "[encoded data removed]",
      "text/plain": [
       "<Figure size 432x288 with 1 Axes>"
      ]
     },
     "metadata": {
      "needs_background": "light"
     },
     "output_type": "display_data"
    }
   ],
   "source": [
    "sns.barplot(data=year_df, x='year', y='revenue', ci=68.2);"
   ]
  },
  {
   "cell_type": "code",
   "execution_count": 101,
   "id": "25db3222",
   "metadata": {},
   "outputs": [
    {
     "name": "stdout",
     "output_type": "stream",
     "text": [
      "the 2020-recent movies revenue mean is:11713115.93478261\n",
      "the 2018-past movies revenue mean is:50530394.02770781\n"
     ]
    }
   ],
   "source": [
    "r_mean = recent_rev.mean()\n",
    "print(f'the 2020-recent movies revenue mean is:{r_mean}')\n",
    "p_mean = past_rev.mean()\n",
    "print(f'the 2018-past movies revenue mean is:{p_mean}')"
   ]
  },
  {
   "cell_type": "markdown",
   "id": "9ddfe05a",
   "metadata": {},
   "source": [
    "- From the Visualization: It is clear that 2018 movies earn more revenue than the 2020 movies, as also reflected on the revenue means"
   ]
  }
 ],
 "metadata": {
  "kernelspec": {
   "display_name": "Python (dojo-env)",
   "language": "python",
   "name": "dojo-env"
  },
  "language_info": {
   "codemirror_mode": {
    "name": "ipython",
    "version": 3
   },
   "file_extension": ".py",
   "mimetype": "text/x-python",
   "name": "python",
   "nbconvert_exporter": "python",
   "pygments_lexer": "ipython3",
   "version": "3.7.12"
  },
  "toc": {
   "base_numbering": 1,
   "nav_menu": {},
   "number_sections": false,
   "sideBar": true,
   "skip_h1_title": false,
   "title_cell": "Table of Contents",
   "title_sidebar": "Contents",
   "toc_cell": false,
   "toc_position": {},
   "toc_section_display": true,
   "toc_window_display": false
  }
 },
 "nbformat": 4,
 "nbformat_minor": 5
}
