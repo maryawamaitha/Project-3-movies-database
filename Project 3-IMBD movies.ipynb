{
 "cells": [
  {
   "cell_type": "code",
   "execution_count": 1,
   "id": "7458e512",
   "metadata": {},
   "outputs": [],
   "source": [
    "import pandas as pd\n",
    "import numpy as np"
   ]
  },
  {
   "cell_type": "markdown",
   "id": "26f624ac",
   "metadata": {},
   "source": [
    "Filtering/Cleaning Steps:\n",
    "- Title Basics:\n",
    "- Replace \"\\N\" with np.nan\n",
    "- Eliminate movies that are null for runtimeMinutes\n",
    "- Eliminate movies that are null for genre\n",
    "- keep only titleType==Movie\n",
    "- keep startYear 2000-2022\n",
    "- Eliminate movies that include  \"Documentary\" in genre (see tip below)"
   ]
  },
  {
   "cell_type": "code",
   "execution_count": 2,
   "id": "f79666f1",
   "metadata": {},
   "outputs": [],
   "source": [
    "basics_url=\"https://datasets.imdbws.com/title.basics.tsv.gz\"\n"
   ]
  },
  {
   "cell_type": "code",
   "execution_count": null,
   "id": "7d1cc4e0",
   "metadata": {},
   "outputs": [],
   "source": [
    "basics = pd.read_csv(basics_url,sep='\\t', low_memory=False)\n",
    "basics.head()"
   ]
  },
  {
   "cell_type": "code",
   "execution_count": null,
   "id": "f0312413",
   "metadata": {},
   "outputs": [],
   "source": [
    "basics.dropna(subset=['genres','runtimeMinutes'],inplace=True)"
   ]
  },
  {
   "cell_type": "markdown",
   "id": "9e49b838",
   "metadata": {},
   "source": [
    "- Eliminate movies that are null for genre"
   ]
  },
  {
   "cell_type": "code",
   "execution_count": null,
   "id": "25491980",
   "metadata": {},
   "outputs": [],
   "source": [
    "# basics.drop(basics[basics['genres']=='NaN'].index, inplace = True)"
   ]
  },
  {
   "cell_type": "code",
   "execution_count": null,
   "id": "379ba2a1",
   "metadata": {},
   "outputs": [],
   "source": [
    "basics.replace({'\\\\N':np.nan}, inplace=True)"
   ]
  },
  {
   "cell_type": "markdown",
   "id": "fd0b3878",
   "metadata": {},
   "source": [
    "- keep only titleType==Movie"
   ]
  },
  {
   "cell_type": "code",
   "execution_count": null,
   "id": "82833912",
   "metadata": {},
   "outputs": [],
   "source": [
    "# basics.drop(basics[basics['startYear']=='NaN'].index, inplace = True)\n",
    "basics = basics[basics['startYear'].notna()]\n"
   ]
  },
  {
   "cell_type": "code",
   "execution_count": null,
   "id": "9ba2d3bf",
   "metadata": {},
   "outputs": [],
   "source": [
    "# movie_fil=basics['titleType']=='movie'\n",
    "basics=basics.loc[(basics.titleType == 'movie')]\n",
    "basics"
   ]
  },
  {
   "cell_type": "markdown",
   "id": "1294849b",
   "metadata": {},
   "source": [
    "- keep 2000-2022"
   ]
  },
  {
   "cell_type": "code",
   "execution_count": null,
   "id": "6544cc49",
   "metadata": {
    "scrolled": true
   },
   "outputs": [],
   "source": [
    "print(basics['startYear'].value_counts())"
   ]
  },
  {
   "cell_type": "code",
   "execution_count": null,
   "id": "a864f0dc",
   "metadata": {},
   "outputs": [],
   "source": [
    "basics['startYear'].unique()"
   ]
  },
  {
   "cell_type": "code",
   "execution_count": null,
   "id": "deccde47",
   "metadata": {},
   "outputs": [],
   "source": [
    "basics['startYear']=basics['startYear'].astype(int)\n",
    "# year_fill=basics[(basics['startYear']>=2000) & (basics['startYear']<=2022)]\n",
    "basics=basics.loc[((basics['startYear'] >=2000) & (basics['startYear'] <= 2022))]"
   ]
  },
  {
   "cell_type": "markdown",
   "id": "f4b20d16",
   "metadata": {},
   "source": [
    "Eliminate movies that include  \"Documentary\" in genre"
   ]
  },
  {
   "cell_type": "code",
   "execution_count": null,
   "id": "808f38e6",
   "metadata": {},
   "outputs": [],
   "source": [
    "# Exclude movies that are included in the documentary category.\n",
    "is_documentary = basics['genres'].str.contains('documentary',case=False, \n",
    "                                               na=False)\n",
    "basics[~is_documentary]"
   ]
  },
  {
   "cell_type": "markdown",
   "id": "8b5664cd",
   "metadata": {},
   "source": [
    "AKAs:\n",
    "keep only US entries.\n",
    "Replace \"\\N\" with np.nan"
   ]
  },
  {
   "cell_type": "code",
   "execution_count": null,
   "id": "e0043377",
   "metadata": {},
   "outputs": [],
   "source": [
    "akas_url=\"https://datasets.imdbws.com/title.akas.tsv.gz\""
   ]
  },
  {
   "cell_type": "code",
   "execution_count": null,
   "id": "21675603",
   "metadata": {},
   "outputs": [],
   "source": [
    "akas =pd.read_csv(akas_url,sep='\\t', low_memory=False)\n",
    "akas.head()"
   ]
  },
  {
   "cell_type": "code",
   "execution_count": null,
   "id": "8c3ad773",
   "metadata": {},
   "outputs": [],
   "source": [
    "akas.replace({'\\\\N':np.nan}, inplace=True)"
   ]
  },
  {
   "cell_type": "code",
   "execution_count": null,
   "id": "8b85615f",
   "metadata": {},
   "outputs": [],
   "source": [
    "# akas=akas.loc['region']=='US'\n",
    "\n",
    "akas=akas.loc[(akas.region == 'US')]\n",
    "akas"
   ]
  },
  {
   "cell_type": "markdown",
   "id": "fcc4c2f7",
   "metadata": {},
   "source": [
    "Ratings:\n",
    "Replace \"\\N\" with np.nan (if any)"
   ]
  },
  {
   "cell_type": "code",
   "execution_count": null,
   "id": "26bb0bfb",
   "metadata": {},
   "outputs": [],
   "source": [
    "ratings_url=\"https://datasets.imdbws.com/title.ratings.tsv.gz\""
   ]
  },
  {
   "cell_type": "code",
   "execution_count": null,
   "id": "fdbf36c8",
   "metadata": {},
   "outputs": [],
   "source": [
    "ratings =pd.read_csv(ratings_url,sep='\\t', low_memory=False)\n",
    "ratings.head()"
   ]
  },
  {
   "cell_type": "code",
   "execution_count": null,
   "id": "ecddf449",
   "metadata": {},
   "outputs": [],
   "source": [
    "ratings.replace({'\\\\N':np.nan})"
   ]
  },
  {
   "cell_type": "code",
   "execution_count": null,
   "id": "2e9fb472",
   "metadata": {},
   "outputs": [],
   "source": [
    "# Filter the basics table down to only include the US by using the filter akas dataframe\n",
    "keepers =basics['tconst'].isin(akas['titleId'])\n",
    "keepers"
   ]
  },
  {
   "cell_type": "code",
   "execution_count": null,
   "id": "885c292d",
   "metadata": {},
   "outputs": [],
   "source": [
    "basics = basics[keepers]\n",
    "basics"
   ]
  },
  {
   "cell_type": "code",
   "execution_count": null,
   "id": "907ceec5",
   "metadata": {},
   "outputs": [],
   "source": [
    "import os\n",
    "os.makedirs('Data/',exist_ok=True) \n",
    "# Confirm folder created\n",
    "os.listdir(\"Data/\")"
   ]
  },
  {
   "cell_type": "code",
   "execution_count": null,
   "id": "8b0ce962",
   "metadata": {},
   "outputs": [],
   "source": [
    "## Save current dataframe to file.\n",
    "basics.to_csv(\"Data/title_basics.csv.gz\",compression='gzip',index=False)"
   ]
  },
  {
   "cell_type": "code",
   "execution_count": null,
   "id": "4eb6b114",
   "metadata": {},
   "outputs": [],
   "source": [
    "akas.to_csv(\"Data/title_akas.csv.gz\",compression='gzip',index=False)"
   ]
  },
  {
   "cell_type": "code",
   "execution_count": null,
   "id": "04d1c314",
   "metadata": {},
   "outputs": [],
   "source": [
    "ratings.to_csv(\"Data/title_ratings.csv.gz\",compression='gzip',index=False)"
   ]
  },
  {
   "cell_type": "code",
   "execution_count": 51,
   "id": "5643614f",
   "metadata": {},
   "outputs": [
    {
     "data": {
      "text/html": [
       "<div>\n",
       "<style scoped>\n",
       "    .dataframe tbody tr th:only-of-type {\n",
       "        vertical-align: middle;\n",
       "    }\n",
       "\n",
       "    .dataframe tbody tr th {\n",
       "        vertical-align: top;\n",
       "    }\n",
       "\n",
       "    .dataframe thead th {\n",
       "        text-align: right;\n",
       "    }\n",
       "</style>\n",
       "<table border=\"1\" class=\"dataframe\">\n",
       "  <thead>\n",
       "    <tr style=\"text-align: right;\">\n",
       "      <th></th>\n",
       "      <th>tconst</th>\n",
       "      <th>titleType</th>\n",
       "      <th>primaryTitle</th>\n",
       "      <th>originalTitle</th>\n",
       "      <th>isAdult</th>\n",
       "      <th>startYear</th>\n",
       "      <th>endYear</th>\n",
       "      <th>runtimeMinutes</th>\n",
       "      <th>genres</th>\n",
       "    </tr>\n",
       "  </thead>\n",
       "  <tbody>\n",
       "    <tr>\n",
       "      <th>0</th>\n",
       "      <td>tt0035423</td>\n",
       "      <td>movie</td>\n",
       "      <td>Kate &amp; Leopold</td>\n",
       "      <td>Kate &amp; Leopold</td>\n",
       "      <td>0</td>\n",
       "      <td>2001</td>\n",
       "      <td>NaN</td>\n",
       "      <td>118.0</td>\n",
       "      <td>Comedy,Fantasy,Romance</td>\n",
       "    </tr>\n",
       "    <tr>\n",
       "      <th>1</th>\n",
       "      <td>tt0062336</td>\n",
       "      <td>movie</td>\n",
       "      <td>The Tango of the Widower and Its Distorting Mi...</td>\n",
       "      <td>El Tango del Viudo y Su Espejo Deformante</td>\n",
       "      <td>0</td>\n",
       "      <td>2020</td>\n",
       "      <td>NaN</td>\n",
       "      <td>70.0</td>\n",
       "      <td>Drama</td>\n",
       "    </tr>\n",
       "    <tr>\n",
       "      <th>2</th>\n",
       "      <td>tt0069049</td>\n",
       "      <td>movie</td>\n",
       "      <td>The Other Side of the Wind</td>\n",
       "      <td>The Other Side of the Wind</td>\n",
       "      <td>0</td>\n",
       "      <td>2018</td>\n",
       "      <td>NaN</td>\n",
       "      <td>122.0</td>\n",
       "      <td>Drama</td>\n",
       "    </tr>\n",
       "    <tr>\n",
       "      <th>3</th>\n",
       "      <td>tt0088751</td>\n",
       "      <td>movie</td>\n",
       "      <td>The Naked Monster</td>\n",
       "      <td>The Naked Monster</td>\n",
       "      <td>0</td>\n",
       "      <td>2005</td>\n",
       "      <td>NaN</td>\n",
       "      <td>100.0</td>\n",
       "      <td>Comedy,Horror,Sci-Fi</td>\n",
       "    </tr>\n",
       "    <tr>\n",
       "      <th>4</th>\n",
       "      <td>tt0093119</td>\n",
       "      <td>movie</td>\n",
       "      <td>Grizzly II: Revenge</td>\n",
       "      <td>Grizzly II: The Predator</td>\n",
       "      <td>0</td>\n",
       "      <td>2020</td>\n",
       "      <td>NaN</td>\n",
       "      <td>74.0</td>\n",
       "      <td>Horror,Music,Thriller</td>\n",
       "    </tr>\n",
       "  </tbody>\n",
       "</table>\n",
       "</div>"
      ],
      "text/plain": [
       "      tconst titleType                                       primaryTitle  \\\n",
       "0  tt0035423     movie                                     Kate & Leopold   \n",
       "1  tt0062336     movie  The Tango of the Widower and Its Distorting Mi...   \n",
       "2  tt0069049     movie                         The Other Side of the Wind   \n",
       "3  tt0088751     movie                                  The Naked Monster   \n",
       "4  tt0093119     movie                                Grizzly II: Revenge   \n",
       "\n",
       "                               originalTitle  isAdult  startYear  endYear  \\\n",
       "0                             Kate & Leopold        0       2001      NaN   \n",
       "1  El Tango del Viudo y Su Espejo Deformante        0       2020      NaN   \n",
       "2                 The Other Side of the Wind        0       2018      NaN   \n",
       "3                          The Naked Monster        0       2005      NaN   \n",
       "4                   Grizzly II: The Predator        0       2020      NaN   \n",
       "\n",
       "   runtimeMinutes                  genres  \n",
       "0           118.0  Comedy,Fantasy,Romance  \n",
       "1            70.0                   Drama  \n",
       "2           122.0                   Drama  \n",
       "3           100.0    Comedy,Horror,Sci-Fi  \n",
       "4            74.0   Horror,Music,Thriller  "
      ]
     },
     "execution_count": 51,
     "metadata": {},
     "output_type": "execute_result"
    }
   ],
   "source": [
    "# Open saved file and preview again\n",
    "basics = pd.read_csv(\"Data/title_basics.csv.gz\", low_memory = False)\n",
    "basics.head()"
   ]
  },
  {
   "cell_type": "markdown",
   "id": "2551d937",
   "metadata": {},
   "source": [
    "- Part 2: Extraction TMDB API"
   ]
  },
  {
   "cell_type": "code",
   "execution_count": null,
   "id": "4bc31657",
   "metadata": {},
   "outputs": [],
   "source": [
    "!pip install tmdbsimple"
   ]
  },
  {
   "cell_type": "code",
   "execution_count": null,
   "id": "e9e70f28",
   "metadata": {},
   "outputs": [],
   "source": [
    "import json\n",
    "with open('/Users/marya/.secret/tmdb_api.json', 'r') as f:\n",
    "    login = json.load(f)\n",
    "## Display the keys of the loaded dict\n",
    "login.keys()"
   ]
  },
  {
   "cell_type": "code",
   "execution_count": null,
   "id": "dc0e5532",
   "metadata": {},
   "outputs": [],
   "source": [
    "import tmdbsimple as tmdb\n",
    "tmdb.API_KEY =  login['api-key']"
   ]
  },
  {
   "cell_type": "code",
   "execution_count": 32,
   "id": "8e7d363a",
   "metadata": {},
   "outputs": [],
   "source": [
    "movie=tmdb.Movies(650)"
   ]
  },
  {
   "cell_type": "code",
   "execution_count": 33,
   "id": "39e4a0dc",
   "metadata": {
    "scrolled": true
   },
   "outputs": [
    {
     "data": {
      "text/plain": [
       "{'adult': False,\n",
       " 'backdrop_path': '/6SnFa3qfCvh4aARg6y3UevKLROh.jpg',\n",
       " 'belongs_to_collection': None,\n",
       " 'budget': 6500000,\n",
       " 'genres': [{'id': 18, 'name': 'Drama'}, {'id': 80, 'name': 'Crime'}],\n",
       " 'homepage': '',\n",
       " 'id': 650,\n",
       " 'imdb_id': 'tt0101507',\n",
       " 'original_language': 'en',\n",
       " 'original_title': 'Boyz n the Hood',\n",
       " 'overview': 'Boyz n the Hood is the popular and successful film and social criticism from John Singleton about the conditions in South Central Los Angeles where teenagers are involved in gun fights and drug dealing on a daily basis.',\n",
       " 'popularity': 46.002,\n",
       " 'poster_path': '/v4ox4aSCNT5vyLXl4Q71JiWwCXW.jpg',\n",
       " 'production_companies': [{'id': 5,\n",
       "   'logo_path': '/71BqEFAF4V3qjjMPCpLuyJFB9A.png',\n",
       "   'name': 'Columbia Pictures',\n",
       "   'origin_country': 'US'}],\n",
       " 'production_countries': [{'iso_3166_1': 'US',\n",
       "   'name': 'United States of America'}],\n",
       " 'release_date': '1991-07-12',\n",
       " 'revenue': 57504069,\n",
       " 'runtime': 112,\n",
       " 'spoken_languages': [{'english_name': 'English',\n",
       "   'iso_639_1': 'en',\n",
       "   'name': 'English'}],\n",
       " 'status': 'Released',\n",
       " 'tagline': \"Once upon a time in South Central L.A... It ain't no fairy tale.\",\n",
       " 'title': 'Boyz n the Hood',\n",
       " 'video': False,\n",
       " 'vote_average': 7.6,\n",
       " 'vote_count': 1434}"
      ]
     },
     "execution_count": 33,
     "metadata": {},
     "output_type": "execute_result"
    }
   ],
   "source": [
    "info=movie.info()\n",
    "info"
   ]
  },
  {
   "cell_type": "code",
   "execution_count": 34,
   "id": "6cb9eb70",
   "metadata": {},
   "outputs": [],
   "source": [
    "def get_movie_with_rating(movie_id):\n",
    "    movie = tmdb.Movies(movie_id)\n",
    "    movie_info = movie.info()\n",
    "    releases = movie.releases()\n",
    "    for c in releases['countries']:\n",
    "        if c['iso_3166_1']=='US':\n",
    "            movie_info['certification'] = c['certification']\n",
    "        return movie_info"
   ]
  },
  {
   "cell_type": "code",
   "execution_count": 35,
   "id": "05ae44be",
   "metadata": {},
   "outputs": [
    {
     "data": {
      "text/plain": [
       "{'adult': False,\n",
       " 'backdrop_path': '/6SnFa3qfCvh4aARg6y3UevKLROh.jpg',\n",
       " 'belongs_to_collection': None,\n",
       " 'budget': 6500000,\n",
       " 'genres': [{'id': 18, 'name': 'Drama'}, {'id': 80, 'name': 'Crime'}],\n",
       " 'homepage': '',\n",
       " 'id': 650,\n",
       " 'imdb_id': 'tt0101507',\n",
       " 'original_language': 'en',\n",
       " 'original_title': 'Boyz n the Hood',\n",
       " 'overview': 'Boyz n the Hood is the popular and successful film and social criticism from John Singleton about the conditions in South Central Los Angeles where teenagers are involved in gun fights and drug dealing on a daily basis.',\n",
       " 'popularity': 46.002,\n",
       " 'poster_path': '/v4ox4aSCNT5vyLXl4Q71JiWwCXW.jpg',\n",
       " 'production_companies': [{'id': 5,\n",
       "   'logo_path': '/71BqEFAF4V3qjjMPCpLuyJFB9A.png',\n",
       "   'name': 'Columbia Pictures',\n",
       "   'origin_country': 'US'}],\n",
       " 'production_countries': [{'iso_3166_1': 'US',\n",
       "   'name': 'United States of America'}],\n",
       " 'release_date': '1991-07-12',\n",
       " 'revenue': 57504069,\n",
       " 'runtime': 112,\n",
       " 'spoken_languages': [{'english_name': 'English',\n",
       "   'iso_639_1': 'en',\n",
       "   'name': 'English'}],\n",
       " 'status': 'Released',\n",
       " 'tagline': \"Once upon a time in South Central L.A... It ain't no fairy tale.\",\n",
       " 'title': 'Boyz n the Hood',\n",
       " 'video': False,\n",
       " 'vote_average': 7.6,\n",
       " 'vote_count': 1434}"
      ]
     },
     "execution_count": 35,
     "metadata": {},
     "output_type": "execute_result"
    }
   ],
   "source": [
    "get_movie_with_rating(650)"
   ]
  },
  {
   "cell_type": "code",
   "execution_count": 36,
   "id": "db8a0d5a",
   "metadata": {},
   "outputs": [
    {
     "data": {
      "text/plain": [
       "['title_akas.csv.gz', 'title_basics.csv.gz', 'title_ratings.csv.gz']"
      ]
     },
     "execution_count": 36,
     "metadata": {},
     "output_type": "execute_result"
    }
   ],
   "source": [
    "import os\n",
    "folder = \"Data/\"\n",
    "os.makedirs(folder, exist_ok=True)\n",
    "os.listdir(folder)"
   ]
  },
  {
   "cell_type": "code",
   "execution_count": 37,
   "id": "8b125791",
   "metadata": {},
   "outputs": [],
   "source": [
    "years_to_get = [2000,2001]"
   ]
  },
  {
   "cell_type": "code",
   "execution_count": 44,
   "id": "26e438ab",
   "metadata": {},
   "outputs": [
    {
     "data": {
      "application/vnd.jupyter.widget-view+json": {
       "model_id": "cf628196415d4172805d0dda7e9e1530",
       "version_major": 2,
       "version_minor": 0
      },
      "text/plain": [
       "YEARS:   0%|          | 0/2 [00:00<?, ?it/s]"
      ]
     },
     "metadata": {},
     "output_type": "display_data"
    }
   ],
   "source": [
    "from tqdm.notebook import tqdm_notebook\n",
    "for YEAR in tqdm_notebook(years_to_get,desc='YEARS',position=0):\n",
    "    #Defining the JSON file to store results for year\n",
    "    JSON_FILE = f'{folder}tmdb_api_results_{YEAR}.json'\n",
    "# Check if file exists\n",
    "file_exists = os.path.isfile(JSON_FILE)\n",
    "# If it does not exist: create it\n",
    "if file_exists == False:\n",
    "# save an empty dict with just \"imdb_id\" to the new json file.\n",
    "    with open(JSON_FILE,'w') as f:\n",
    "        json.dump([{'imdb_id':0}],f)"
   ]
  },
  {
   "cell_type": "code",
   "execution_count": 45,
   "id": "7c572e29",
   "metadata": {},
   "outputs": [],
   "source": [
    "basics = pd.read_csv('Data/title_basics.csv.gz')\n"
   ]
  },
  {
   "cell_type": "code",
   "execution_count": 48,
   "id": "35a18ac1",
   "metadata": {},
   "outputs": [],
   "source": [
    "df=basics.loc[basics['startYear'] == YEAR].copy()\n",
    "movies_ids = df['tconst'].copy()"
   ]
  },
  {
   "cell_type": "code",
   "execution_count": 49,
   "id": "e754e960",
   "metadata": {},
   "outputs": [],
   "source": [
    "if_exist_df = pd.read_json(JSON_FILE)"
   ]
  },
  {
   "cell_type": "code",
   "execution_count": 50,
   "id": "b2c3a80d",
   "metadata": {},
   "outputs": [
    {
     "ename": "NameError",
     "evalue": "name 'movie_ids' is not defined",
     "output_type": "error",
     "traceback": [
      "\u001b[1;31m---------------------------------------------------------------------------\u001b[0m",
      "\u001b[1;31mNameError\u001b[0m                                 Traceback (most recent call last)",
      "\u001b[1;32m~\\AppData\\Local\\Temp\\ipykernel_32084\\3868501901.py\u001b[0m in \u001b[0;36m<module>\u001b[1;34m\u001b[0m\n\u001b[0;32m      1\u001b[0m \u001b[1;31m# filter out any ids that are already in the JSON_FILE\u001b[0m\u001b[1;33m\u001b[0m\u001b[1;33m\u001b[0m\u001b[1;33m\u001b[0m\u001b[0m\n\u001b[1;32m----> 2\u001b[1;33m \u001b[0mmovie_ids_to_get\u001b[0m \u001b[1;33m=\u001b[0m \u001b[0mmovie_ids\u001b[0m\u001b[1;33m[\u001b[0m\u001b[1;33m~\u001b[0m\u001b[0mmovie_ids\u001b[0m\u001b[1;33m.\u001b[0m\u001b[0misin\u001b[0m\u001b[1;33m(\u001b[0m\u001b[0mif_exist_df\u001b[0m\u001b[1;33m[\u001b[0m\u001b[1;34m'imdb_id'\u001b[0m\u001b[1;33m]\u001b[0m\u001b[1;33m)\u001b[0m\u001b[1;33m]\u001b[0m\u001b[1;33m\u001b[0m\u001b[1;33m\u001b[0m\u001b[0m\n\u001b[0m",
      "\u001b[1;31mNameError\u001b[0m: name 'movie_ids' is not defined"
     ]
    }
   ],
   "source": [
    "# filter out any ids that are already in the JSON_FILE\n",
    "movie_ids_to_get = movie_ids[~movie_ids.isin(if_exist_df['imdb_id'])]\n"
   ]
  },
  {
   "cell_type": "code",
   "execution_count": 52,
   "id": "ae1af222",
   "metadata": {},
   "outputs": [],
   "source": [
    "def write_json(new_data, filename): \n",
    "    \"\"\"Adapted from: https://www.geeksforgeeks.org/append-to-json-file-using-python/\"\"\"    \n",
    "    \n",
    "    with open(filename,'r+') as file:\n",
    "        # First we load existing data into a dict.\n",
    "        file_data = json.load(file)\n",
    "        ## Choose extend or append\n",
    "        if (type(new_data) == list) & (type(file_data) == list):\n",
    "            file_data.extend(new_data)\n",
    "        else:\n",
    "             file_data.append(new_data)\n",
    "        # Sets file's current position at offset.\n",
    "        file.seek(0)\n",
    "        # convert back to json.\n",
    "        json.dump(file_data, file)\n"
   ]
  },
  {
   "cell_type": "code",
   "execution_count": 54,
   "id": "8b9e5bf7",
   "metadata": {},
   "outputs": [
    {
     "ename": "NameError",
     "evalue": "name 'movie_ids_to_get' is not defined",
     "output_type": "error",
     "traceback": [
      "\u001b[1;31m---------------------------------------------------------------------------\u001b[0m",
      "\u001b[1;31mNameError\u001b[0m                                 Traceback (most recent call last)",
      "\u001b[1;32m~\\AppData\\Local\\Temp\\ipykernel_32084\\3672319286.py\u001b[0m in \u001b[0;36m<module>\u001b[1;34m\u001b[0m\n\u001b[0;32m      1\u001b[0m \u001b[1;31m#Get index and movie id from list\u001b[0m\u001b[1;33m\u001b[0m\u001b[1;33m\u001b[0m\u001b[1;33m\u001b[0m\u001b[0m\n\u001b[0;32m      2\u001b[0m \u001b[1;31m# INNER Loop\u001b[0m\u001b[1;33m\u001b[0m\u001b[1;33m\u001b[0m\u001b[1;33m\u001b[0m\u001b[0m\n\u001b[1;32m----> 3\u001b[1;33m for movie_id in tqdm_notebook(movie_ids_to_get,\n\u001b[0m\u001b[0;32m      4\u001b[0m                                   \u001b[0mdesc\u001b[0m\u001b[1;33m=\u001b[0m\u001b[1;34mf'Movies from {YEAR}'\u001b[0m\u001b[1;33m,\u001b[0m\u001b[1;33m\u001b[0m\u001b[1;33m\u001b[0m\u001b[0m\n\u001b[0;32m      5\u001b[0m                                   \u001b[0mposition\u001b[0m\u001b[1;33m=\u001b[0m\u001b[1;36m1\u001b[0m\u001b[1;33m,\u001b[0m\u001b[1;33m\u001b[0m\u001b[1;33m\u001b[0m\u001b[0m\n",
      "\u001b[1;31mNameError\u001b[0m: name 'movie_ids_to_get' is not defined"
     ]
    }
   ],
   "source": [
    "#Get index and movie id from list\n",
    "# INNER Loop\n",
    "for movie_id in tqdm_notebook(movie_ids_to_get,\n",
    "                                  desc=f'Movies from {YEAR}',\n",
    "                                  position=1,\n",
    "                                  leave=True):\n",
    "        # Attempt to retrieve then data for the movie id\n",
    "        try:\n",
    "            temp = get_movie_with_rating(movie_id)  #This uses your pre-made function\n",
    "            # Append/extend results to existing file using a pre-made function\n",
    "            write_json(temp,JSON_FILE)\n",
    "            # Short 20 ms sleep to prevent overwhelming server\n",
    "            time.sleep(0.02)\n",
    "            \n",
    "        # If it fails,  make a dict with just the id and None for certification.\n",
    "        except Exception as e:\n",
    "            continue"
   ]
  },
  {
   "cell_type": "code",
   "execution_count": null,
   "id": "6d4d4ac6",
   "metadata": {},
   "outputs": [],
   "source": []
  },
  {
   "cell_type": "code",
   "execution_count": null,
   "id": "48c88f5e",
   "metadata": {},
   "outputs": [],
   "source": []
  }
 ],
 "metadata": {
  "kernelspec": {
   "display_name": "Python (dojo-env)",
   "language": "python",
   "name": "dojo-env"
  },
  "language_info": {
   "codemirror_mode": {
    "name": "ipython",
    "version": 3
   },
   "file_extension": ".py",
   "mimetype": "text/x-python",
   "name": "python",
   "nbconvert_exporter": "python",
   "pygments_lexer": "ipython3",
   "version": "3.7.12"
  },
  "toc": {
   "base_numbering": 1,
   "nav_menu": {},
   "number_sections": false,
   "sideBar": true,
   "skip_h1_title": false,
   "title_cell": "Table of Contents",
   "title_sidebar": "Contents",
   "toc_cell": false,
   "toc_position": {},
   "toc_section_display": true,
   "toc_window_display": false
  }
 },
 "nbformat": 4,
 "nbformat_minor": 5
}
