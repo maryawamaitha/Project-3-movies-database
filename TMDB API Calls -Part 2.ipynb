{
 "cells": [
  {
   "cell_type": "code",
   "execution_count": 1,
   "id": "d658b88e",
   "metadata": {},
   "outputs": [
    {
     "data": {
      "text/plain": [
       "dict_keys(['api-key'])"
      ]
     },
     "execution_count": 1,
     "metadata": {},
     "output_type": "execute_result"
    }
   ],
   "source": [
    "import json\n",
    "with open('/Users/marya/.secret/tmdb_api.json', 'r') as f:\n",
    "    login = json.load(f)\n",
    "## Display the keys of the loaded dict\n",
    "login.keys()"
   ]
  },
  {
   "cell_type": "code",
   "execution_count": 2,
   "id": "fb695217",
   "metadata": {},
   "outputs": [],
   "source": [
    "import tmdbsimple as tmdb\n",
    "tmdb.API_KEY =  login['api-key']"
   ]
  },
  {
   "cell_type": "code",
   "execution_count": 3,
   "id": "302a6724",
   "metadata": {},
   "outputs": [],
   "source": [
    "def get_movie_with_rating(movie_id):\n",
    "    movie = tmdb.Movies(movie_id)\n",
    "    movie_info = movie.info()\n",
    "    releases = movie.releases()\n",
    "    for c in releases['countries']:\n",
    "        if c['iso_3166_1'] =='US':\n",
    "            movie_info['certification'] = c['certification']\n",
    "    return movie_info\n",
    "            "
   ]
  },
  {
   "cell_type": "code",
   "execution_count": 4,
   "id": "2457143e",
   "metadata": {},
   "outputs": [
    {
     "data": {
      "text/plain": [
       "['.ipynb_checkpoints',\n",
       " 'final_tmdb_data_2000.csv.gz',\n",
       " 'final_tmdb_data_2001.csv.gz',\n",
       " 'genres_.csv.gz',\n",
       " 'Project 3-EDA-TMDB.ipynb',\n",
       " 'title_akas.csv.gz',\n",
       " 'title_basics.csv.gz',\n",
       " 'title_genres.csv.gz',\n",
       " 'title_ratings.csv.gz',\n",
       " 'tmdb_api_results_2000.json',\n",
       " 'tmdb_api_results_2001.json',\n",
       " 'tmdb_results_combined.csv.gz']"
      ]
     },
     "execution_count": 4,
     "metadata": {},
     "output_type": "execute_result"
    }
   ],
   "source": [
    "import os\n",
    "FOLDER = \"Data/\"\n",
    "os.makedirs(FOLDER, exist_ok=True)\n",
    "os.listdir(FOLDER)"
   ]
  },
  {
   "cell_type": "code",
   "execution_count": 6,
   "id": "efe9836a",
   "metadata": {},
   "outputs": [],
   "source": [
    "YEARS_TO_GET = [2010,2011,2012,2013,2014,2015,2016,2017,2018,2019]"
   ]
  },
  {
   "cell_type": "code",
   "execution_count": null,
   "id": "676f1b94",
   "metadata": {},
   "outputs": [
    {
     "data": {
      "application/vnd.jupyter.widget-view+json": {
       "model_id": "80cab27734c342aa96662967e2858b18",
       "version_major": 2,
       "version_minor": 0
      },
      "text/plain": [
       "YEARS:   0%|          | 0/10 [00:00<?, ?it/s]"
      ]
     },
     "metadata": {},
     "output_type": "display_data"
    },
    {
     "data": {
      "application/vnd.jupyter.widget-view+json": {
       "model_id": "75ae72941f52433e883576c477fe3740",
       "version_major": 2,
       "version_minor": 0
      },
      "text/plain": [
       "Movies from 2010:   0%|          | 0/6065 [00:00<?, ?it/s]"
      ]
     },
     "metadata": {},
     "output_type": "display_data"
    },
    {
     "data": {
      "application/vnd.jupyter.widget-view+json": {
       "model_id": "c5545fbeb2024604974cb1fae907bb87",
       "version_major": 2,
       "version_minor": 0
      },
      "text/plain": [
       "Movies from 2011:   0%|          | 0/6829 [00:00<?, ?it/s]"
      ]
     },
     "metadata": {},
     "output_type": "display_data"
    },
    {
     "data": {
      "application/vnd.jupyter.widget-view+json": {
       "model_id": "7b717431fed34e21b274a5d7392aee50",
       "version_major": 2,
       "version_minor": 0
      },
      "text/plain": [
       "Movies from 2012:   0%|          | 0/7366 [00:00<?, ?it/s]"
      ]
     },
     "metadata": {},
     "output_type": "display_data"
    }
   ],
   "source": [
    "from tqdm.notebook import tqdm_notebook\n",
    "import pandas as pd\n",
    "for YEAR in tqdm_notebook(YEARS_TO_GET,desc='YEARS',position=0):\n",
    "        JSON_FILE = f'{FOLDER}tmdb_api_results_{YEAR}.json'\n",
    "        file_exists = os.path.isfile(JSON_FILE)\n",
    "        if file_exists == False:\n",
    "            with open(JSON_FILE,'w') as f:\n",
    "                json.dump([{'imdb_id':0}],f)\n",
    "\n",
    "        basics = pd.read_csv(\"Data/title_basics.csv.gz\")\n",
    "        df = basics.loc[ basics['startYear']==YEAR].copy()\n",
    "        movie_ids = df['tconst'].copy()\n",
    "        previous_df = pd.read_json(JSON_FILE)\n",
    "        movie_ids_to_get = movie_ids[~movie_ids.isin(previous_df['imdb_id'])]\n",
    "\n",
    "        def write_json(new_data, filename):   \n",
    "            with open(filename,'r+') as file:\n",
    "                file_data = json.load(file)\n",
    "                if (type(new_data) == list) & (type(file_data) == list):\n",
    "                    file_data.extend(new_data)\n",
    "                else:\n",
    "                     file_data.append(new_data)\n",
    "                file.seek(0)\n",
    "                json.dump(file_data, file)\n",
    "\n",
    "        for movie_id in tqdm_notebook(movie_ids_to_get,\n",
    "                                              desc=f'Movies from {YEAR}',\n",
    "                                              position=1,\n",
    "                                              leave=True):\n",
    "                try:\n",
    "                        temp = get_movie_with_rating(movie_id)\n",
    "                        write_json(temp,JSON_FILE)\n",
    "                        time.sleep(0.02)\n",
    "\n",
    "                except Exception as e:\n",
    "                        continue\n",
    "\n",
    "        final_year_df = pd.read_json(JSON_FILE)\n",
    "        final_year_df.to_csv(f\"{FOLDER}final_tmdb_data_{YEAR}.csv.gz\", compression=\"gzip\", index=False)"
   ]
  },
  {
   "cell_type": "code",
   "execution_count": null,
   "id": "879beafd",
   "metadata": {},
   "outputs": [],
   "source": []
  }
 ],
 "metadata": {
  "kernelspec": {
   "display_name": "Python (dojo-env)",
   "language": "python",
   "name": "dojo-env"
  },
  "language_info": {
   "codemirror_mode": {
    "name": "ipython",
    "version": 3
   },
   "file_extension": ".py",
   "mimetype": "text/x-python",
   "name": "python",
   "nbconvert_exporter": "python",
   "pygments_lexer": "ipython3",
   "version": "3.7.12"
  },
  "toc": {
   "base_numbering": 1,
   "nav_menu": {},
   "number_sections": false,
   "sideBar": true,
   "skip_h1_title": false,
   "title_cell": "Table of Contents",
   "title_sidebar": "Contents",
   "toc_cell": false,
   "toc_position": {},
   "toc_section_display": true,
   "toc_window_display": false
  }
 },
 "nbformat": 4,
 "nbformat_minor": 5
}
